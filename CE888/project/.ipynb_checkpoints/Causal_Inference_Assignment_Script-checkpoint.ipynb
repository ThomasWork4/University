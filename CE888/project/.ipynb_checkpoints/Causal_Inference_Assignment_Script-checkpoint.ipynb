{
 "cells": [
  {
   "cell_type": "code",
   "execution_count": 3,
   "id": "8ae84478",
   "metadata": {
    "scrolled": true
   },
   "outputs": [],
   "source": [
    "# External Libaries required for the majority of the assignment, more to be added as more tasks are completed \n",
    "from econml.metalearners import XLearner\n",
    "from sklearn.ensemble import RandomForestRegressor, RandomForestClassifier\n",
    "from sklearn.model_selection import cross_val_score\n",
    "from sklearn.model_selection import train_test_split\n",
    "from sklearn.preprocessing import StandardScaler\n",
    "from sklearn.linear_model import LinearRegression\n",
    "from sklearn.model_selection import RandomizedSearchCV\n",
    "from sklearn.model_selection import GridSearchCV\n",
    "import numpy as np\n",
    "import pandas as pd\n",
    "import seaborn as sns\n",
    "import scipy.stats as st\n",
    "import matplotlib.pyplot as plt"
   ]
  },
  {
   "cell_type": "markdown",
   "id": "9e84d2d2",
   "metadata": {},
   "source": [
    "# Preprocessing\n",
    "In this section, I will load the data, format it and interpret it's contents using a combination of graphs, and simple statistical measurements\n",
    "### Loading the data"
   ]
  },
  {
   "cell_type": "code",
   "execution_count": 4,
   "id": "82d72722",
   "metadata": {},
   "outputs": [],
   "source": [
    "# IHDP Dataset\n",
    "data = np.load('ihdp.npz')\n",
    "# Jobs Dataset\n",
    "data2 = np.load('jobs.npz')"
   ]
  },
  {
   "cell_type": "markdown",
   "id": "15b8f666",
   "metadata": {},
   "source": [
    "### Data contents and formatting"
   ]
  },
  {
   "cell_type": "code",
   "execution_count": 5,
   "id": "a9c55841",
   "metadata": {},
   "outputs": [
    {
     "name": "stdout",
     "output_type": "stream",
     "text": [
      "x: (747, 25)\n",
      "t: (747, 1)\n",
      "yf: (747, 1)\n",
      "ycf: (747, 1)\n",
      "ite: (747, 1)\n"
     ]
    }
   ],
   "source": [
    "# Column headers for data\n",
    "# x --> Background Variables\n",
    "# t --> Treatment Variable (Support or no support)\n",
    "# yf --> Outcome Variable (Factual)\n",
    "# ycf --> Outcome Variable (Counterfactual)\n",
    "# ite --> individual treatment effect\n",
    "for f in data.files:\n",
    "  print(f'{f}: {data[f].shape}')"
   ]
  },
  {
   "cell_type": "code",
   "execution_count": 6,
   "id": "025cece7",
   "metadata": {},
   "outputs": [
    {
     "name": "stdout",
     "output_type": "stream",
     "text": [
      "x: (3212, 17)\n",
      "t: (3212, 1)\n",
      "y: (3212, 1)\n",
      "e: (3212, 1)\n"
     ]
    }
   ],
   "source": [
    "# Column headers for data2\n",
    "# x --> Background Variables\n",
    "# t --> Treatment Variable (Training or no training)\n",
    "# y --> Outcome Variable (Factual)\n",
    "# e --> experimental or observational data\n",
    "for f in data2.files:\n",
    "  print(f'{f}: {data2[f].shape}')"
   ]
  },
  {
   "cell_type": "code",
   "execution_count": 7,
   "id": "e4363bb4",
   "metadata": {},
   "outputs": [
    {
     "name": "stdout",
     "output_type": "stream",
     "text": [
      "4.016066896118338\n"
     ]
    }
   ],
   "source": [
    "IHDP_x = data['x']\n",
    "IHDP_t = data['t']\n",
    "IHDP_yf = data['yf']\n",
    "IHDP_ycf = data['ycf']\n",
    "IHDP_ite = data['ite']\n",
    "# Average treatment effect of the IHDP dataset\n",
    "print(np.mean(IHDP_ite))\n",
    "Jobs_x = data2['x']\n",
    "Jobs_t = data2['t']\n",
    "Jobs_y = data2['y']\n",
    "Jobs_e = data2['e']\n",
    "limit=150"
   ]
  },
  {
   "cell_type": "markdown",
   "id": "105d928f",
   "metadata": {},
   "source": [
    "### Data exploration \n",
    "In this section, I convert our data to dataframe format and check for: Missing values, Non-numerical data, and any potential outliers"
   ]
  },
  {
   "cell_type": "code",
   "execution_count": 8,
   "id": "6672cfe0",
   "metadata": {},
   "outputs": [
    {
     "name": "stdout",
     "output_type": "stream",
     "text": [
      "<class 'pandas.core.frame.DataFrame'>\n",
      "RangeIndex: 747 entries, 0 to 746\n",
      "Data columns (total 25 columns):\n",
      " #   Column  Non-Null Count  Dtype  \n",
      "---  ------  --------------  -----  \n",
      " 0   0       747 non-null    float64\n",
      " 1   1       747 non-null    float64\n",
      " 2   2       747 non-null    float64\n",
      " 3   3       747 non-null    float64\n",
      " 4   4       747 non-null    float64\n",
      " 5   5       747 non-null    float64\n",
      " 6   6       747 non-null    float64\n",
      " 7   7       747 non-null    float64\n",
      " 8   8       747 non-null    float64\n",
      " 9   9       747 non-null    float64\n",
      " 10  10      747 non-null    float64\n",
      " 11  11      747 non-null    float64\n",
      " 12  12      747 non-null    float64\n",
      " 13  13      747 non-null    float64\n",
      " 14  14      747 non-null    float64\n",
      " 15  15      747 non-null    float64\n",
      " 16  16      747 non-null    float64\n",
      " 17  17      747 non-null    float64\n",
      " 18  18      747 non-null    float64\n",
      " 19  19      747 non-null    float64\n",
      " 20  20      747 non-null    float64\n",
      " 21  21      747 non-null    float64\n",
      " 22  22      747 non-null    float64\n",
      " 23  23      747 non-null    float64\n",
      " 24  24      747 non-null    float64\n",
      "dtypes: float64(25)\n",
      "memory usage: 146.0 KB\n"
     ]
    }
   ],
   "source": [
    "df_X = pd.DataFrame(IHDP_x)\n",
    "df_t = pd.DataFrame(IHDP_t)\n",
    "df_yf = pd.DataFrame(IHDP_yf)\n",
    "df_ycf = pd.DataFrame(IHDP_ycf)\n",
    "df_ite = pd.DataFrame(IHDP_ite)\n",
    "# Remove hash's one by one and inspect the contents of each part of the data\n",
    "df_X.info()\n",
    "#df_t.info()\n",
    "#df_yf.info()\n",
    "#df_ycf.info()\n",
    "#df_ite.info()"
   ]
  },
  {
   "cell_type": "markdown",
   "id": "2bfc9761",
   "metadata": {},
   "source": [
    "There appears to be no missing data or non-numerical values from the IHDP dataset therefore no preprocessing is needed in regards to encoding and filling Nan rows."
   ]
  },
  {
   "cell_type": "code",
   "execution_count": 9,
   "id": "7a9ffa31",
   "metadata": {},
   "outputs": [
    {
     "data": {
      "image/png": "[encoded data removed]",
      "text/plain": [
       "<Figure size 1440x720 with 3 Axes>"
      ]
     },
     "metadata": {
      "needs_background": "light"
     },
     "output_type": "display_data"
    }
   ],
   "source": [
    "fig, axs = plt.subplots(1, 3, figsize=(20,10))\n",
    "axs[0].boxplot(x = IHDP_x)\n",
    "axs[0].set_title(\"Background Variables\", fontsize=25, fontweight=\"bold\")\n",
    "axs[1].boxplot(x = IHDP_yf)\n",
    "axs[1].set_title(\"Factual Outcomes\", fontsize=25, fontweight=\"bold\")\n",
    "axs[2].boxplot(x = IHDP_ite)\n",
    "axs[2].set_title(\"Individual Treatment Effect\", fontsize=25, fontweight=\"bold\")\n",
    "plt.tight_layout()\n",
    "#plt.savefig(\"BoxPlots.png\", dpi=1200)"
   ]
  },
  {
   "cell_type": "markdown",
   "id": "14d7bf31",
   "metadata": {},
   "source": [
    "There does appear to be quite a few outliers in the IHDP dataset (as seen by the values lying outside the minimum and maximum of each box and whisker plot), especially in the non-binary variables. Given the spread of the data it may be best to standardize the data to prevent losing too much if we remove all the possible outliers however this can be experimented through different approaches to find what yields the more accurate results."
   ]
  },
  {
   "cell_type": "code",
   "execution_count": 10,
   "id": "ab902482",
   "metadata": {},
   "outputs": [],
   "source": [
    "df_X = pd.DataFrame(Jobs_x)\n",
    "df_t = pd.DataFrame(Jobs_t)\n",
    "df_y = pd.DataFrame(Jobs_y)\n",
    "df_e = pd.DataFrame(Jobs_e)\n",
    "#df_X.info()\n",
    "#df_t.info()\n",
    "#df_y.info()\n",
    "#df_e.info()"
   ]
  },
  {
   "cell_type": "markdown",
   "id": "d3198810",
   "metadata": {},
   "source": [
    "Similar to the IHDP dataset there appears to be no missing data or non-numerical values in jobs therefore no preprocessing is needed in regards to encoding and filling Nan rows."
   ]
  },
  {
   "cell_type": "code",
   "execution_count": 11,
   "id": "de44d367",
   "metadata": {},
   "outputs": [
    {
     "data": {
      "image/png": "[encoded data removed]",
      "text/plain": [
       "<Figure size 1440x720 with 1 Axes>"
      ]
     },
     "metadata": {
      "needs_background": "light"
     },
     "output_type": "display_data"
    }
   ],
   "source": [
    "plt.figure(figsize=(20,10))\n",
    "plt.boxplot(x = Jobs_x)\n",
    "plt.title(\"Background Variables\", fontsize=25, fontweight=\"bold\")\n",
    "#plt.savefig(\"BoxPlots2.png\", dpi=1200)\n",
    "plt.show()"
   ]
  },
  {
   "cell_type": "markdown",
   "id": "22211374",
   "metadata": {},
   "source": [
    "Again, identical to IHDP, jobs contains a vast amount of outliers in the background variables, thus a similar approach of \n",
    "experimenting with standardization will need to be taken. This being said, we could also investigate random forest regression\n",
    "models that should internally deal with any outliers and reduce the chance of our results being skewed or bias in any way"
   ]
  },
  {
   "cell_type": "markdown",
   "id": "b56f5dbf",
   "metadata": {},
   "source": [
    "### Data Modelling \n",
    "In this section I will try and spot any patterns or obvious trends in the data plots, as well as any issues that may need to be preprocessed in order to work with the approach we are trying to take. \n",
    "#### IHDP Dataset"
   ]
  },
  {
   "cell_type": "code",
   "execution_count": 12,
   "id": "33acdee3",
   "metadata": {},
   "outputs": [
    {
     "data": {
      "image/png": "[encoded data removed]",
      "text/plain": [
       "<Figure size 1152x288 with 5 Axes>"
      ]
     },
     "metadata": {
      "needs_background": "light"
     },
     "output_type": "display_data"
    }
   ],
   "source": [
    "bins=20\n",
    "fig, axs = plt.subplots(1, 5, figsize=(16, 4))\n",
    "axs[0].hist(IHDP_x, bins=bins)\n",
    "axs[1].hist(IHDP_t, bins=bins)\n",
    "axs[2].hist(IHDP_yf, bins=bins)\n",
    "axs[3].hist(IHDP_ycf, bins=bins)\n",
    "axs[4].hist(IHDP_ite, bins=bins)\n",
    "#plt.savefig(\"Histo.png\", dpi=1200)\n",
    "plt.show()"
   ]
  },
  {
   "cell_type": "markdown",
   "id": "9aeb3aae",
   "metadata": {},
   "source": [
    "The background variables X, although unbalanced, seem to demonstrate a typical shape given the dataset size, the same goes for both the factual and counter factual outcomes. The treatment variable is clearly represented as a binary, 0 being no treatment and 1 being treatment given. The individual treatment effect seems to be extremely negatively skewed although most of the values are around 4 which seems correct given our average treatment effect of 4.02"
   ]
  },
  {
   "cell_type": "code",
   "execution_count": 13,
   "id": "064397f0",
   "metadata": {},
   "outputs": [
    {
     "data": {
      "image/png": "[encoded data removed]",
      "text/plain": [
       "<Figure size 1152x288 with 4 Axes>"
      ]
     },
     "metadata": {
      "needs_background": "light"
     },
     "output_type": "display_data"
    }
   ],
   "source": [
    "fig, axs = plt.subplots(1, 4, figsize=(16, 4))\n",
    "# These scatterplots have only been made via factual outcomes \n",
    "# More scatterplots could be made to model the counterfactual outcomes\n",
    "\n",
    "axs[0].scatter(IHDP_x[:, 0].reshape(-1, 1)[IHDP_t == 1][:limit], IHDP_yf[IHDP_t == 1][:limit], c = \"r\", label = \"Treated\")\n",
    "axs[0].scatter(IHDP_x[:, 0].reshape(-1, 1)[IHDP_t == 0][:limit], IHDP_yf[IHDP_t == 0][:limit], c = \"g\", label = \"Control\")\n",
    "\n",
    "axs[1].scatter(IHDP_x[:, 0].reshape(-1, 1)[IHDP_t == 1][:limit], IHDP_ycf[IHDP_t == 1][:limit], c = \"r\", label = \"Treated\")\n",
    "axs[1].scatter(IHDP_x[:, 0].reshape(-1, 1)[IHDP_t == 0][:limit], IHDP_ycf[IHDP_t == 0][:limit], c = \"g\", label = \"Control\")\n",
    "\n",
    "axs[2].scatter(IHDP_x[:, 1].reshape(-1, 1)[IHDP_t == 1][:limit], IHDP_yf[IHDP_t == 1][:limit], c = \"r\", label = \"Treated\")\n",
    "axs[2].scatter(IHDP_x[:, 1].reshape(-1, 1)[IHDP_t == 0][:limit], IHDP_yf[IHDP_t == 0][:limit], c = \"g\", label = \"Control\")\n",
    "\n",
    "axs[3].scatter(IHDP_x[:, 1].reshape(-1, 1)[IHDP_t == 1][:limit], IHDP_ycf[IHDP_t == 1][:limit], c = \"r\", label = \"Treated\")\n",
    "axs[3].scatter(IHDP_x[:, 1].reshape(-1, 1)[IHDP_t == 0][:limit], IHDP_ycf[IHDP_t == 0][:limit], c = \"g\", label = \"Control\")\n",
    "\n",
    "axs[0].legend(ncol=2)\n",
    "axs[1].legend(ncol=2)\n",
    "axs[2].legend(ncol=2)\n",
    "axs[3].legend(ncol=2)\n",
    "#plt.savefig(\"Scatter.png\", dpi=1200)\n",
    "plt.show()"
   ]
  },
  {
   "cell_type": "markdown",
   "id": "10800054",
   "metadata": {},
   "source": [
    "Looking at the above graphs of the first two background variables (factual and counterfactual) measured against their outcomes with both the treated and control groups, we can observe some clear effects of the treatment which hopefully means they can be measured as we train and test our regression models."
   ]
  },
  {
   "cell_type": "markdown",
   "id": "3054ee20",
   "metadata": {},
   "source": [
    "#### Jobs Dataset"
   ]
  },
  {
   "cell_type": "code",
   "execution_count": 14,
   "id": "24b4d9d7",
   "metadata": {},
   "outputs": [
    {
     "data": {
      "image/png": "[encoded data removed]",
      "text/plain": [
       "<Figure size 1152x288 with 4 Axes>"
      ]
     },
     "metadata": {
      "needs_background": "light"
     },
     "output_type": "display_data"
    }
   ],
   "source": [
    "bins=20\n",
    "fig, axs = plt.subplots(1,4, figsize=(16, 4))\n",
    "axs[0].hist(Jobs_x, bins=bins)\n",
    "axs[1].hist(Jobs_t, bins=bins)\n",
    "# Treatement is Binary (Trained / Untrained)\n",
    "axs[2].hist(Jobs_y, bins=bins)\n",
    "# Outcome is binary (Employed / Unemployed)\n",
    "axs[3].hist(Jobs_e, bins=bins)\n",
    "# Sample contents is binary (Experimental / Observational)\n",
    "plt.savefig(\"Histo2.png\", dpi=1200)\n",
    "plt.show()"
   ]
  },
  {
   "cell_type": "markdown",
   "id": "96b199e2",
   "metadata": {},
   "source": [
    "Similarly to IHDP, the background variables in Jobs seem to be relatively unbalanced, however again demonstrate the typical shape for the relative dataset size. All of t, y, and e represent binary values of either 0 and 1 with all graphs being unbalanced in their distributions. What I mean by this is there is alot more of one result then there is the other (More 1's than 0's or vice verca)\n"
   ]
  },
  {
   "cell_type": "code",
   "execution_count": 15,
   "id": "243c0943",
   "metadata": {},
   "outputs": [
    {
     "data": {
      "image/png": "[encoded data removed]",
      "text/plain": [
       "<Figure size 1152x288 with 4 Axes>"
      ]
     },
     "metadata": {
      "needs_background": "light"
     },
     "output_type": "display_data"
    }
   ],
   "source": [
    "fig, axs = plt.subplots(1, 4, figsize=(16, 4))\n",
    "limit = 20\n",
    "axs[0].scatter(Jobs_x[:, 0].reshape(-1, 1)[Jobs_t == 1][:limit], Jobs_y[Jobs_t == 1][:limit], c = \"r\", label = \"Treated\")\n",
    "axs[0].scatter(Jobs_x[:, 0].reshape(-1, 1)[Jobs_t == 0][:limit], Jobs_y[Jobs_t == 0][:limit], c = \"g\", label = \"Control\")\n",
    "\n",
    "axs[1].scatter(Jobs_x[:, 1].reshape(-1, 1)[Jobs_t == 1][:limit], Jobs_y[Jobs_t == 1][:limit], c = \"r\", label = \"Treated\")\n",
    "axs[1].scatter(Jobs_x[:, 1].reshape(-1, 1)[Jobs_t == 0][:limit], Jobs_y[Jobs_t == 0][:limit], c = \"g\", label = \"Control\")\n",
    "\n",
    "axs[2].scatter(Jobs_x[:, 2].reshape(-1, 1)[Jobs_t == 1][:limit], Jobs_y[Jobs_t == 1][:limit], c = \"r\", label = \"Treated\")\n",
    "axs[2].scatter(Jobs_x[:, 2].reshape(-1, 1)[Jobs_t == 0][:limit], Jobs_y[Jobs_t == 0][:limit], c = \"g\", label = \"Control\")\n",
    "\n",
    "axs[3].scatter(Jobs_x[:, 3].reshape(-1, 1)[Jobs_t == 1][:limit], Jobs_y[Jobs_t == 1][:limit], c = \"r\", label = \"Treated\")\n",
    "axs[3].scatter(Jobs_x[:, 3].reshape(-1, 1)[Jobs_t == 0][:limit], Jobs_y[Jobs_t == 0][:limit], c = \"g\", label = \"Control\")\n",
    "\n",
    "axs[0].legend(ncol=2)\n",
    "axs[1].legend(ncol=2)\n",
    "axs[2].legend(ncol=2)\n",
    "axs[3].legend(ncol=2)\n",
    "#plt.savefig(\"Scatter2.png\", dpi=1200)\n",
    "plt.show()"
   ]
  },
  {
   "cell_type": "markdown",
   "id": "d4cb6b31",
   "metadata": {},
   "source": [
    "As opposed to IHDP jobs outcomes is recorded as a binary variables thus only plotting scatter points on 0 and 1. It is significantly harder to spot obvious effects given the 4 graphs above, however this could just be a coincidence given the background variables we have chosen to plot. "
   ]
  },
  {
   "cell_type": "code",
   "execution_count": 16,
   "id": "a05e9444",
   "metadata": {},
   "outputs": [
    {
     "data": {
      "image/png": "[encoded data removed]",
      "text/plain": [
       "<Figure size 1152x288 with 2 Axes>"
      ]
     },
     "metadata": {
      "needs_background": "light"
     },
     "output_type": "display_data"
    }
   ],
   "source": [
    "bins=20\n",
    "fig, axs = plt.subplots(1, 2, figsize=(16, 4))\n",
    "axs[0].hist(IHDP_t, bins=bins)\n",
    "axs[0].set_title(\"IHDP Control and treatment Distribution\", fontsize=12, fontweight=\"bold\")\n",
    "axs[1].hist(Jobs_t, bins=bins)\n",
    "axs[1].set_title(\"Jobs Control and treatment Distribution\", fontsize=12, fontweight=\"bold\")\n",
    "#plt.savefig(\"CTsplit.png\", dpi=1200)\n",
    "plt.show()"
   ]
  },
  {
   "cell_type": "markdown",
   "id": "ed0844ff",
   "metadata": {},
   "source": [
    "The above graphs confirm our need to use X-learner. There is clear inbalance towards the treatment and control groups in both datasets, hopefully X-learner should be able to deal with this when calculating our CATE value. "
   ]
  },
  {
   "cell_type": "markdown",
   "id": "51a8c754",
   "metadata": {},
   "source": [
    "### Splitting and Standardizing the datasets\n",
    "I'm looking here to split the datasets with the same ratios of 80/20, and then create a function that given the parameters that are used to call it, return standardized data. "
   ]
  },
  {
   "cell_type": "code",
   "execution_count": 19,
   "id": "6dcba60d",
   "metadata": {},
   "outputs": [],
   "source": [
    "IHDP_x_train, IHDP_x_test, IHDP_t_train, IHDP_t_test, IHDP_yf_train, IHDP_yf_test, IHDP_ite_train, IHDP_ite_test = train_test_split(IHDP_x, IHDP_t, IHDP_yf, IHDP_ite, test_size=0.2)\n",
    "Jobs_x_train, Jobs_x_test, Jobs_t_train, Jobs_t_test, Jobs_y_train, Jobs_y_test, Jobs_e_train, Jobs_e_test = train_test_split(Jobs_x, Jobs_t, Jobs_y, Jobs_e, test_size=0.2)"
   ]
  },
  {
   "cell_type": "markdown",
   "id": "0b6da761",
   "metadata": {},
   "source": [
    "# Training our models"
   ]
  },
  {
   "cell_type": "markdown",
   "id": "648a657c",
   "metadata": {},
   "source": [
    "## Random forest regressor\n",
    "Here we will start with a simple model with it's default parameters, we will then seek to improve the hyperparameters of the model using 10 fold cross validation Grid Search in combination with Random search, and evaluate both sets of results."
   ]
  },
  {
   "cell_type": "code",
   "execution_count": 20,
   "id": "e7d9f17c",
   "metadata": {},
   "outputs": [
    {
     "data": {
      "text/plain": [
       "RandomForestRegressor()"
      ]
     },
     "execution_count": 20,
     "metadata": {},
     "output_type": "execute_result"
    }
   ],
   "source": [
    "# Simple Random forest trained using the IHDP features + treatment\n",
    "random_forest_IHDP = RandomForestRegressor() \n",
    "Concatenated_XT_train_IHDP = np.concatenate([IHDP_x_train, IHDP_t_train], axis=1)\n",
    "random_forest_IHDP.fit(Concatenated_XT_train_IHDP, IHDP_yf_train.flatten())\n",
    "\n",
    "# Simple Random forest trained using the Jobs features + treatment\n",
    "random_forest_Jobs = RandomForestRegressor() \n",
    "Concatenated_XT_train_Jobs = np.concatenate([Jobs_x_train, Jobs_t_train], axis=1)\n",
    "random_forest_Jobs.fit(Concatenated_XT_train_Jobs, Jobs_y_train.flatten())"
   ]
  },
  {
   "cell_type": "markdown",
   "id": "107dde34",
   "metadata": {},
   "source": [
    "Now we predict Y0 and Y1 given t=0 and t=1 respectively for both datasets"
   ]
  },
  {
   "cell_type": "code",
   "execution_count": 59,
   "id": "b322e646",
   "metadata": {},
   "outputs": [],
   "source": [
    "# t=0 - IHDP\n",
    "Concatenated_XT_zeros_IHDP = np.concatenate([IHDP_x_test, np.zeros_like(IHDP_t_test)], axis=1)\n",
    "Y0_IHDP = random_forest_IHDP.predict(Concatenated_XT_zeros_IHDP)\n",
    "# t=1 - IHDP\n",
    "Concatenated_XT_ones_IHDP = np.concatenate([IHDP_x_test, np.ones_like(IHDP_t_test)], axis=1)\n",
    "Y1_IHDP = random_forest_IHDP.predict(Concatenated_XT_ones_IHDP)\n",
    "\n",
    "\n",
    "# t=0 - Jobs\n",
    "Concatenated_XT_zeros_Jobs = np.concatenate([Jobs_x_test, np.zeros_like(Jobs_t_test)], axis=1)\n",
    "Y0_Jobs = random_forest_Jobs.predict(Concatenated_XT_zeros_Jobs)\n",
    "# t=1 - Jobs\n",
    "Concatenated_XT_ones_Jobs = np.concatenate([Jobs_x_test, np.ones_like(Jobs_t_test)], axis=1)\n",
    "Y1_Jobs = random_forest_Jobs.predict(Concatenated_XT_ones_Jobs)"
   ]
  },
  {
   "cell_type": "markdown",
   "id": "b05c0781",
   "metadata": {},
   "source": [
    "Now we can calculate our effect estimates as Y1-Y0"
   ]
  },
  {
   "cell_type": "code",
   "execution_count": 61,
   "id": "8519a4e6",
   "metadata": {},
   "outputs": [],
   "source": [
    "#ITEs for IHDP dataset\n",
    "Effect_Estimates_IHDP = Y1_IHDP - Y0_IHDP\n",
    "#ITEs for Jobs dataset\n",
    "Effect_Estimates_Jobs = Y1_Jobs - Y0_Jobs"
   ]
  },
  {
   "cell_type": "markdown",
   "id": "cfe6fbd6",
   "metadata": {},
   "source": [
    "### Performance Evaluation"
   ]
  },
  {
   "cell_type": "markdown",
   "id": "10092bb9",
   "metadata": {},
   "source": [
    "As discussed in the project's proposal, the IHDP dataset wil be evaluated using ATE and PEHE, whilst the Jobs dataset will be evaluated using ATT and Rpol"
   ]
  },
  {
   "cell_type": "code",
   "execution_count": 73,
   "id": "edae7857",
   "metadata": {},
   "outputs": [],
   "source": [
    "# Functions Taken from lab 4 \n",
    "def pehe(effect_true, effect_pred):\n",
    "    \"\"\"\n",
    "    Precision in Estimating the Heterogeneous Treatment Effect (PEHE)\n",
    "    :param effect_true: true treatment effect value\n",
    "    :param effect_pred: predicted treatment effect value\n",
    "    :return: PEHE\n",
    "    \"\"\"\n",
    "    return np.abs(np.mean(effect_pred) - np.mean(effect_true))\n",
    "\n",
    "def abs_ate(effect_true, effect_pred):\n",
    "    \"\"\"\n",
    "    Absolute error for the Average Treatment Effect (ATE)\n",
    "    :param effect_true: true treatment effect value\n",
    "    :param effect_pred: predicted treatment effect value\n",
    "    :return: absolute error on ATE\n",
    "    \"\"\"\n",
    "    return np.sqrt(np.mean((effect_true - effect_pred)**2))"
   ]
  },
  {
   "cell_type": "code",
   "execution_count": 74,
   "id": "1535d2f0",
   "metadata": {},
   "outputs": [],
   "source": [
    "# Function taken from D. Machlanski (Unit Supervisor) - https://github.com/dmachlanski\n",
    "def abs_att(effect_pred, yf, t, e):\n",
    "    \"\"\"\n",
    "    Absolute error for the Average Treatment Effect on the Treated\n",
    "    :param effect_pred: predicted treatment effect value\n",
    "    :param yf: factual (observed) outcome\n",
    "    :param t: treatment status (treated/control)\n",
    "    :param e: whether belongs to the experimental group\n",
    "    :return: absolute error on ATT\n",
    "    \"\"\"\n",
    "    att_true = np.mean(yf[t > 0]) - np.mean(yf[(1 - t + e) > 1])\n",
    "    att_pred = np.mean(effect_pred[(t + e) > 1])\n",
    "\n",
    "    return np.abs(att_pred - att_true)\n",
    "\n",
    "def policy_risk(effect_pred, yf, t, e):\n",
    "    \"\"\"\n",
    "    Computes the risk of the policy defined by predicted effect\n",
    "    :param effect_pred: predicted treatment effect value\n",
    "    :param yf: factual (observed) outcome\n",
    "    :param t: treatment status (treated/control)\n",
    "    :param e: whether belongs to the experimental group\n",
    "    :return: policy risk\n",
    "    \"\"\"\n",
    "    # Consider only the cases for which we have experimental data (i.e., e > 0)\n",
    "    t_e = t[e > 0]\n",
    "    yf_e = yf[e > 0]\n",
    "    effect_pred_e = effect_pred[e > 0]\n",
    "\n",
    "    if np.any(np.isnan(effect_pred_e)):\n",
    "        return np.nan\n",
    "\n",
    "    policy = effect_pred_e > 0.0\n",
    "    treat_overlap = (policy == t_e) * (t_e > 0)\n",
    "    control_overlap = (policy == t_e) * (t_e < 1)\n",
    "\n",
    "    if np.sum(treat_overlap) == 0:\n",
    "        treat_value = 0\n",
    "    else:\n",
    "        treat_value = np.mean(yf_e[treat_overlap])\n",
    "\n",
    "    if np.sum(control_overlap) == 0:\n",
    "        control_value = 0\n",
    "    else:\n",
    "        control_value = np.mean(yf_e[control_overlap])\n",
    "\n",
    "    pit = np.mean(policy)\n",
    "    policy_value = pit * treat_value + (1.0 - pit) * control_value\n",
    "\n",
    "    return 1.0 - policy_value\n"
   ]
  },
  {
   "cell_type": "markdown",
   "id": "7e5ff5e9",
   "metadata": {},
   "source": [
    "First we calculate the error on our Average treatment effect and PEHE measurment for the IHDP dataset\n"
   ]
  },
  {
   "cell_type": "code",
   "execution_count": 76,
   "id": "845d9043",
   "metadata": {},
   "outputs": [],
   "source": [
    "ATE_IHDP = abs_ate(IHDP_ite_test, Effect_Estimates_IHDP)\n",
    "PEHE_IHDP = pehe(IHDP_ite_test, Effect_Estimates_IHDP)"
   ]
  },
  {
   "cell_type": "markdown",
   "id": "a41c6a20",
   "metadata": {},
   "source": [
    "Then we calculate our ATT and Rpol measurments for the Jobs dataset"
   ]
  },
  {
   "cell_type": "code",
   "execution_count": 77,
   "id": "3b54479d",
   "metadata": {},
   "outputs": [],
   "source": [
    "ATT_Jobs = abs_att(Effect_Estimates_Jobs, Jobs_y_test.flatten(), Jobs_t_test.flatten(), Jobs_e_test.flatten())\n",
    "Rpol = policy_risk(Effect_Estimates_Jobs, Jobs_y_test.flatten(), Jobs_t_test.flatten(), Jobs_e_test.flatten())"
   ]
  },
  {
   "cell_type": "markdown",
   "id": "3ec0bdc4",
   "metadata": {},
   "source": [
    "Now we have our metric evaluations for the standard models "
   ]
  },
  {
   "cell_type": "code",
   "execution_count": 83,
   "id": "20f6df9a",
   "metadata": {},
   "outputs": [
    {
     "data": {
      "text/html": [
       "<div>\n",
       "<style scoped>\n",
       "    .dataframe tbody tr th:only-of-type {\n",
       "        vertical-align: middle;\n",
       "    }\n",
       "\n",
       "    .dataframe tbody tr th {\n",
       "        vertical-align: top;\n",
       "    }\n",
       "\n",
       "    .dataframe thead th {\n",
       "        text-align: right;\n",
       "    }\n",
       "</style>\n",
       "<table border=\"1\" class=\"dataframe\">\n",
       "  <thead>\n",
       "    <tr style=\"text-align: right;\">\n",
       "      <th></th>\n",
       "      <th>Method</th>\n",
       "      <th>ATE test</th>\n",
       "      <th>PEHE test</th>\n",
       "    </tr>\n",
       "  </thead>\n",
       "  <tbody>\n",
       "    <tr>\n",
       "      <th>0</th>\n",
       "      <td>RF</td>\n",
       "      <td>1.305712</td>\n",
       "      <td>0.116149</td>\n",
       "    </tr>\n",
       "  </tbody>\n",
       "</table>\n",
       "</div>"
      ],
      "text/plain": [
       "  Method  ATE test  PEHE test\n",
       "0     RF  1.305712   0.116149"
      ]
     },
     "execution_count": 83,
     "metadata": {},
     "output_type": "execute_result"
    }
   ],
   "source": [
    "results = []\n",
    "results.append(['RF', ATE_IHDP, PEHE_IHDP])\n",
    "cols = ['Method', 'ATE test', 'PEHE test']\n",
    "df_First = pd.DataFrame(results, columns=cols)\n",
    "df_First"
   ]
  },
  {
   "cell_type": "code",
   "execution_count": 84,
   "id": "88453b72",
   "metadata": {},
   "outputs": [
    {
     "data": {
      "text/html": [
       "<div>\n",
       "<style scoped>\n",
       "    .dataframe tbody tr th:only-of-type {\n",
       "        vertical-align: middle;\n",
       "    }\n",
       "\n",
       "    .dataframe tbody tr th {\n",
       "        vertical-align: top;\n",
       "    }\n",
       "\n",
       "    .dataframe thead th {\n",
       "        text-align: right;\n",
       "    }\n",
       "</style>\n",
       "<table border=\"1\" class=\"dataframe\">\n",
       "  <thead>\n",
       "    <tr style=\"text-align: right;\">\n",
       "      <th></th>\n",
       "      <th>Method</th>\n",
       "      <th>ATT test</th>\n",
       "      <th>Risk Policy</th>\n",
       "    </tr>\n",
       "  </thead>\n",
       "  <tbody>\n",
       "    <tr>\n",
       "      <th>0</th>\n",
       "      <td>RF</td>\n",
       "      <td>0.063641</td>\n",
       "      <td>0.202295</td>\n",
       "    </tr>\n",
       "  </tbody>\n",
       "</table>\n",
       "</div>"
      ],
      "text/plain": [
       "  Method  ATT test  Risk Policy\n",
       "0     RF  0.063641     0.202295"
      ]
     },
     "execution_count": 84,
     "metadata": {},
     "output_type": "execute_result"
    }
   ],
   "source": [
    "results_ = []\n",
    "results_.append(['RF', ATT_Jobs, Rpol])\n",
    "cols_ = ['Method', 'ATT test', 'Risk Policy']\n",
    "df_Second = pd.DataFrame(results_, columns=cols_)\n",
    "df_Second"
   ]
  },
  {
   "cell_type": "markdown",
   "id": "6f42509c",
   "metadata": {},
   "source": [
    "## Hyperparameter Tuning"
   ]
  },
  {
   "cell_type": "markdown",
   "id": "d6ca4a25",
   "metadata": {},
   "source": [
    "For hyperparameter tuning, we will execute a combination of both random and grid search. Random search will allow us to narrow down a more specific range for each of the random forest hyperparameters, whilst grid search will allow us to try every individual combination in these ranges."
   ]
  },
  {
   "cell_type": "markdown",
   "id": "27635762",
   "metadata": {},
   "source": [
    "### Random Search IHDP"
   ]
  },
  {
   "cell_type": "code",
   "execution_count": 85,
   "id": "4dfdc957",
   "metadata": {},
   "outputs": [
    {
     "name": "stdout",
     "output_type": "stream",
     "text": [
      "Fitting 10 folds for each of 100 candidates, totalling 1000 fits\n"
     ]
    },
    {
     "data": {
      "text/plain": [
       "{'n_estimators': 200,\n",
       " 'min_samples_split': 2,\n",
       " 'min_samples_leaf': 2,\n",
       " 'max_features': 'auto',\n",
       " 'max_depth': 10,\n",
       " 'bootstrap': True}"
      ]
     },
     "execution_count": 85,
     "metadata": {},
     "output_type": "execute_result"
    }
   ],
   "source": [
    "Random_Forest_Optimal_IHDP = RandomForestRegressor()\n",
    "\n",
    "random_grid = {'bootstrap': [True, False],\n",
    " 'max_depth': [10, 20, 30, 40, 50, 60, 70, 80, 90, 100, None],\n",
    " 'max_features': ['auto', 'sqrt'],\n",
    " 'min_samples_leaf': [1, 2, 4],\n",
    " 'min_samples_split': [2, 5, 10],\n",
    " 'n_estimators': [200, 400, 600, 800, 1000, 1200, 1400, 1600, 1800, 2000]}\n",
    "\n",
    "# Random search of parameters, using 10 fold cross validation, \n",
    "# search across 100 different combinations, and use all available cores\n",
    "RandomForest_random_IHDP = RandomizedSearchCV(estimator = Random_Forest_Optimal_IHDP, param_distributions = random_grid, n_iter = 100, cv = 10, verbose=2, n_jobs = -1)\n",
    "# Fit the random search model\n",
    "RandomForest_random_IHDP.fit(Concatenated_XT_train_IHDP, IHDP_yf_train.flatten())\n",
    "RandomForest_random_IHDP.best_params_"
   ]
  },
  {
   "cell_type": "markdown",
   "id": "c58883d9",
   "metadata": {},
   "source": [
    "### Random Search Jobs"
   ]
  },
  {
   "cell_type": "code",
   "execution_count": 86,
   "id": "5c6e71b1",
   "metadata": {},
   "outputs": [
    {
     "name": "stdout",
     "output_type": "stream",
     "text": [
      "Fitting 10 folds for each of 100 candidates, totalling 1000 fits\n"
     ]
    },
    {
     "data": {
      "text/plain": [
       "{'n_estimators': 2000,\n",
       " 'min_samples_split': 2,\n",
       " 'min_samples_leaf': 4,\n",
       " 'max_features': 'sqrt',\n",
       " 'max_depth': None,\n",
       " 'bootstrap': True}"
      ]
     },
     "execution_count": 86,
     "metadata": {},
     "output_type": "execute_result"
    }
   ],
   "source": [
    "Random_Forest_Optimal_Jobs = RandomForestRegressor()\n",
    "\n",
    "random_grid = {'bootstrap': [True, False],\n",
    " 'max_depth': [10, 20, 30, 40, 50, 60, 70, 80, 90, 100, None],\n",
    " 'max_features': ['auto', 'sqrt'],\n",
    " 'min_samples_leaf': [1, 2, 4],\n",
    " 'min_samples_split': [2, 5, 10],\n",
    " 'n_estimators': [200, 400, 600, 800, 1000, 1200, 1400, 1600, 1800, 2000]}\n",
    "\n",
    "\n",
    "# Random search of parameters, using 10 fold cross validation, \n",
    "# search across 100 different combinations, and use all available cores\n",
    "RandomForest_random_Jobs = RandomizedSearchCV(estimator = Random_Forest_Optimal_Jobs, param_distributions = random_grid, n_iter = 100, cv = 10, verbose=2, n_jobs = -1)\n",
    "# Fit the random search model\n",
    "RandomForest_random_Jobs.fit(Concatenated_XT_train_Jobs, Jobs_y_train.flatten())\n",
    "RandomForest_random_Jobs.best_params_"
   ]
  },
  {
   "cell_type": "markdown",
   "id": "ae6416da",
   "metadata": {},
   "source": [
    "### Grid Search IHDP"
   ]
  },
  {
   "cell_type": "markdown",
   "id": "55843589",
   "metadata": {},
   "source": [
    "Using the results, we can construct our parameter grid for grid search with values more in the ballpark of what we're looking for "
   ]
  },
  {
   "cell_type": "code",
   "execution_count": 88,
   "id": "c37bae7c",
   "metadata": {},
   "outputs": [
    {
     "name": "stdout",
     "output_type": "stream",
     "text": [
      "Fitting 10 folds for each of 162 candidates, totalling 1620 fits\n"
     ]
    },
    {
     "data": {
      "text/plain": [
       "{'bootstrap': True,\n",
       " 'max_depth': 8,\n",
       " 'max_features': 'auto',\n",
       " 'min_samples_leaf': 2,\n",
       " 'min_samples_split': 2,\n",
       " 'n_estimators': 200}"
      ]
     },
     "execution_count": 88,
     "metadata": {},
     "output_type": "execute_result"
    }
   ],
   "source": [
    "Benchmark_IHDP = RandomForestRegressor()\n",
    "# Our parameter Grid uses values centered around the parameters found from the random search\n",
    "param_grid = {\n",
    "    'bootstrap': [True],\n",
    "    'max_depth': [8, 10, 12],\n",
    "    'max_features': ['auto', 'sqrt'],\n",
    "    'min_samples_leaf': [2, 3, 4],\n",
    "    'min_samples_split': [2, 4, 6],\n",
    "    'n_estimators': [200, 400, 600]\n",
    "}\n",
    "\n",
    "GridSearch_RF_IHDP = GridSearchCV(estimator = Benchmark_IHDP, param_grid = param_grid, cv = 10, n_jobs = -1, verbose = 2)\n",
    "GridSearch_RF_IHDP.fit(Concatenated_XT_train_IHDP, IHDP_yf_train.flatten())\n",
    "GridSearch_RF_IHDP.best_params_"
   ]
  },
  {
   "cell_type": "markdown",
   "id": "b95b4a1c",
   "metadata": {},
   "source": [
    "### Grid Search Jobs"
   ]
  },
  {
   "cell_type": "code",
   "execution_count": 90,
   "id": "9092f593",
   "metadata": {},
   "outputs": [
    {
     "name": "stdout",
     "output_type": "stream",
     "text": [
      "Fitting 10 folds for each of 162 candidates, totalling 1620 fits\n"
     ]
    },
    {
     "data": {
      "text/plain": [
       "{'bootstrap': True,\n",
       " 'max_depth': 4,\n",
       " 'max_features': 'sqrt',\n",
       " 'min_samples_leaf': 3,\n",
       " 'min_samples_split': 2,\n",
       " 'n_estimators': 1800}"
      ]
     },
     "execution_count": 90,
     "metadata": {},
     "output_type": "execute_result"
    }
   ],
   "source": [
    "Benchmark_Jobs = RandomForestRegressor()\n",
    "# Our parameter Grid uses values centered around the parameters found from the random search\n",
    "param_grid = {\n",
    "    'bootstrap': [True],\n",
    "    'max_depth': [None, 2, 4],\n",
    "    'max_features': ['auto', 'sqrt'],\n",
    "    'min_samples_leaf': [3, 4, 5],\n",
    "    'min_samples_split': [2, 4, 6],\n",
    "    'n_estimators': [1800, 2000, 2200]\n",
    "}\n",
    "\n",
    "GridSearch_RF_Jobs = GridSearchCV(estimator = Benchmark_Jobs, param_grid = param_grid, cv = 10, n_jobs = -1, verbose = 2)\n",
    "GridSearch_RF_Jobs.fit(Concatenated_XT_train_Jobs, Jobs_y_train.flatten())\n",
    "GridSearch_RF_Jobs.best_params_"
   ]
  },
  {
   "cell_type": "markdown",
   "id": "7b90da1c",
   "metadata": {},
   "source": [
    "### Performance Evaluation"
   ]
  },
  {
   "cell_type": "markdown",
   "id": "0f02bc25",
   "metadata": {},
   "source": [
    "Now we can evaluate the performance of our regressor using the metric we chose for the dataset in combination with 10 fold cross validation. First we need to re-predict our treatment effects using the new optimized models"
   ]
  },
  {
   "cell_type": "code",
   "execution_count": 103,
   "id": "e5efeff4",
   "metadata": {},
   "outputs": [],
   "source": [
    "Optimized_RF_IHDP = RandomForestRegressor(bootstrap=True, max_depth=8, max_features='auto', min_samples_leaf=2, min_samples_split=2, n_estimators=200)\n",
    "Optimized_RF_IHDP.fit(Concatenated_XT_train_IHDP, IHDP_yf_train.flatten())\n",
    "\n",
    "# t=0 - IHDP\n",
    "Concatenated_XT_zeros_IHDP = np.concatenate([IHDP_x_test, np.zeros_like(IHDP_t_test)], axis=1)\n",
    "Y0_IHDP = Optimized_RF_IHDP.predict(Concatenated_XT_zeros_IHDP)\n",
    "# t=1 - IHDP\n",
    "Concatenated_XT_ones_IHDP = np.concatenate([IHDP_x_test, np.ones_like(IHDP_t_test)], axis=1)\n",
    "Y1_IHDP = Optimized_RF_IHDP.predict(Concatenated_XT_ones_IHDP)\n",
    "\n",
    "\n",
    "Optimized_RF_Jobs = RandomForestRegressor(bootstrap=True, max_depth=4, max_features='sqrt', min_samples_leaf=3, min_samples_split=2, n_estimators=1800)\n",
    "Optimized_RF_Jobs.fit(Concatenated_XT_train_Jobs, Jobs_y_train.flatten())\n",
    "\n",
    "# t=0 - Jobs\n",
    "Concatenated_XT_zeros_Jobs = np.concatenate([Jobs_x_test, np.zeros_like(Jobs_t_test)], axis=1)\n",
    "Y0_Jobs = Optimized_RF_Jobs.predict(Concatenated_XT_zeros_Jobs)\n",
    "# t=1 - Jobs\n",
    "Concatenated_XT_ones_Jobs = np.concatenate([Jobs_x_test, np.ones_like(Jobs_t_test)], axis=1)\n",
    "Y1_Jobs = Optimized_RF_Jobs.predict(Concatenated_XT_ones_Jobs)\n",
    "\n",
    "#ITEs for IHDP dataset\n",
    "Effect_Estimates_IHDP_LR = Y1_IHDP - Y0_IHDP\n",
    "#ITEs for Jobs dataset\n",
    "Effect_Estimates_Jobs_LR = Y1_Jobs - Y0_Jobs"
   ]
  },
  {
   "cell_type": "markdown",
   "id": "b41bd494",
   "metadata": {},
   "source": [
    "Now once again, we can calculate our metric for each of the datasets and display them "
   ]
  },
  {
   "cell_type": "code",
   "execution_count": 107,
   "id": "51a85039",
   "metadata": {},
   "outputs": [],
   "source": [
    "ATE_IHDP_Optimized = abs_ate(IHDP_ite_test, Effect_Estimates_IHDP_LR)\n",
    "PEHE_IHDP_Optimized = pehe(IHDP_ite_test, Effect_Estimates_IHDP_LR)\n",
    "ATT_Jobs_Optimized = abs_att(Effect_Estimates_Jobs_LR, Jobs_y_test.flatten(), Jobs_t_test.flatten(), Jobs_e_test.flatten())\n",
    "Rpol_Optimized = policy_risk(Effect_Estimates_Jobs_LR, Jobs_y_test.flatten(), Jobs_t_test.flatten(), Jobs_e_test.flatten())"
   ]
  },
  {
   "cell_type": "code",
   "execution_count": 108,
   "id": "4a414f64",
   "metadata": {},
   "outputs": [
    {
     "data": {
      "text/html": [
       "<div>\n",
       "<style scoped>\n",
       "    .dataframe tbody tr th:only-of-type {\n",
       "        vertical-align: middle;\n",
       "    }\n",
       "\n",
       "    .dataframe tbody tr th {\n",
       "        vertical-align: top;\n",
       "    }\n",
       "\n",
       "    .dataframe thead th {\n",
       "        text-align: right;\n",
       "    }\n",
       "</style>\n",
       "<table border=\"1\" class=\"dataframe\">\n",
       "  <thead>\n",
       "    <tr style=\"text-align: right;\">\n",
       "      <th></th>\n",
       "      <th>Method</th>\n",
       "      <th>ATE test</th>\n",
       "      <th>PEHE test</th>\n",
       "    </tr>\n",
       "  </thead>\n",
       "  <tbody>\n",
       "    <tr>\n",
       "      <th>0</th>\n",
       "      <td>RF</td>\n",
       "      <td>1.305712</td>\n",
       "      <td>0.116149</td>\n",
       "    </tr>\n",
       "    <tr>\n",
       "      <th>1</th>\n",
       "      <td>Optimized RF</td>\n",
       "      <td>1.254617</td>\n",
       "      <td>0.137322</td>\n",
       "    </tr>\n",
       "  </tbody>\n",
       "</table>\n",
       "</div>"
      ],
      "text/plain": [
       "         Method  ATE test  PEHE test\n",
       "0            RF  1.305712   0.116149\n",
       "1  Optimized RF  1.254617   0.137322"
      ]
     },
     "execution_count": 108,
     "metadata": {},
     "output_type": "execute_result"
    }
   ],
   "source": [
    "results = []\n",
    "results.append(['RF', ATE_IHDP, PEHE_IHDP])\n",
    "results.append(['Optimized RF', ATE_IHDP_Optimized, PEHE_IHDP_Optimized])\n",
    "cols = ['Method', 'ATE test', 'PEHE test']\n",
    "df_First = pd.DataFrame(results, columns=cols)\n",
    "df_First"
   ]
  },
  {
   "cell_type": "code",
   "execution_count": 109,
   "id": "9441ed4a",
   "metadata": {},
   "outputs": [
    {
     "data": {
      "text/html": [
       "<div>\n",
       "<style scoped>\n",
       "    .dataframe tbody tr th:only-of-type {\n",
       "        vertical-align: middle;\n",
       "    }\n",
       "\n",
       "    .dataframe tbody tr th {\n",
       "        vertical-align: top;\n",
       "    }\n",
       "\n",
       "    .dataframe thead th {\n",
       "        text-align: right;\n",
       "    }\n",
       "</style>\n",
       "<table border=\"1\" class=\"dataframe\">\n",
       "  <thead>\n",
       "    <tr style=\"text-align: right;\">\n",
       "      <th></th>\n",
       "      <th>Method</th>\n",
       "      <th>ATT test</th>\n",
       "      <th>Risk Policy</th>\n",
       "    </tr>\n",
       "  </thead>\n",
       "  <tbody>\n",
       "    <tr>\n",
       "      <th>0</th>\n",
       "      <td>RF</td>\n",
       "      <td>0.063641</td>\n",
       "      <td>0.202295</td>\n",
       "    </tr>\n",
       "    <tr>\n",
       "      <th>1</th>\n",
       "      <td>Optimized RF</td>\n",
       "      <td>0.033940</td>\n",
       "      <td>0.217834</td>\n",
       "    </tr>\n",
       "  </tbody>\n",
       "</table>\n",
       "</div>"
      ],
      "text/plain": [
       "         Method  ATT test  Risk Policy\n",
       "0            RF  0.063641     0.202295\n",
       "1  Optimized RF  0.033940     0.217834"
      ]
     },
     "execution_count": 109,
     "metadata": {},
     "output_type": "execute_result"
    }
   ],
   "source": [
    "results_ = []\n",
    "results_.append(['RF', ATT_Jobs, Rpol])\n",
    "results_.append(['Optimized RF', ATT_Jobs_Optimized, Rpol_Optimized])\n",
    "cols_ = ['Method', 'ATT test', 'Risk Policy']\n",
    "df_Second = pd.DataFrame(results_, columns=cols_)\n",
    "df_Second"
   ]
  },
  {
   "cell_type": "markdown",
   "id": "8f79007a",
   "metadata": {},
   "source": [
    "### Feature Importances"
   ]
  },
  {
   "cell_type": "markdown",
   "id": "38fd8247",
   "metadata": {},
   "source": [
    "Finally we can plot and vizualise the feature importances of the data, from most useful to least useful. As the columns don't have a title, we can recognize feature by their column indices. "
   ]
  },
  {
   "cell_type": "code",
   "execution_count": 111,
   "id": "23806ced",
   "metadata": {},
   "outputs": [
    {
     "name": "stdout",
     "output_type": "stream",
     "text": [
      "Feature Importances - IHDP\n",
      "1. Feature Column: 25 (0.571921)\n",
      "2. Feature Column: 5 (0.276019)\n",
      "3. Feature Column: 14 (0.031312)\n",
      "4. Feature Column: 0 (0.023439)\n",
      "5. Feature Column: 4 (0.021095)\n",
      "6. Feature Column: 3 (0.015948)\n",
      "7. Feature Column: 1 (0.011379)\n",
      "8. Feature Column: 2 (0.009751)\n",
      "9. Feature Column: 12 (0.005129)\n",
      "10. Feature Column: 8 (0.004200)\n",
      "11. Feature Column: 6 (0.003414)\n",
      "12. Feature Column: 24 (0.003211)\n",
      "13. Feature Column: 13 (0.002843)\n",
      "14. Feature Column: 16 (0.002724)\n",
      "15. Feature Column: 11 (0.002649)\n",
      "16. Feature Column: 10 (0.002226)\n",
      "17. Feature Column: 7 (0.002120)\n",
      "18. Feature Column: 9 (0.001770)\n",
      "19. Feature Column: 18 (0.001534)\n",
      "20. Feature Column: 15 (0.001419)\n",
      "21. Feature Column: 23 (0.001306)\n",
      "22. Feature Column: 20 (0.001271)\n",
      "23. Feature Column: 19 (0.001123)\n",
      "24. Feature Column: 21 (0.001017)\n",
      "25. Feature Column: 17 (0.000795)\n",
      "26. Feature Column: 22 (0.000387)\n",
      "\n",
      "Feature Importances - Jobs\n",
      "1. Feature Column: 12 (0.200569)\n",
      "2. Feature Column: 7 (0.186285)\n",
      "3. Feature Column: 14 (0.119204)\n",
      "4. Feature Column: 11 (0.089455)\n",
      "5. Feature Column: 6 (0.084527)\n",
      "6. Feature Column: 15 (0.070705)\n",
      "7. Feature Column: 13 (0.046544)\n",
      "8. Feature Column: 9 (0.043038)\n",
      "9. Feature Column: 8 (0.040444)\n",
      "10. Feature Column: 0 (0.039947)\n",
      "11. Feature Column: 4 (0.022018)\n",
      "12. Feature Column: 17 (0.017840)\n",
      "13. Feature Column: 1 (0.012079)\n",
      "14. Feature Column: 10 (0.011481)\n",
      "15. Feature Column: 2 (0.006879)\n",
      "16. Feature Column: 5 (0.003706)\n",
      "17. Feature Column: 3 (0.003378)\n",
      "18. Feature Column: 16 (0.001900)\n"
     ]
    }
   ],
   "source": [
    "# Feature Importances for the IHDP dataset using random forest regression\n",
    "Optimized_RF_IHDP.fit(Concatenated_XT_train_IHDP, IHDP_yf_train.flatten())\n",
    "features_IHDP = list(Concatenated_XT_train_IHDP)\n",
    "importances_IHDP = Optimized_RF_IHDP.feature_importances_\n",
    "std_IHDP = np.std([tree.feature_importances_ for tree in Optimized_RF_IHDP.estimators_], axis=0)\n",
    "indices_IHDP = np.argsort(importances_IHDP)[::-1]\n",
    "print(\"Feature Importances - IHDP\")\n",
    "for f in range(Concatenated_XT_train_IHDP.shape[1]):\n",
    "    print(\"%d. %s (%f)\" % (f + 1, \"Feature Column: \"+ str(indices_IHDP[f]), importances_IHDP[indices_IHDP[f]]))\n",
    "\n",
    "# Feature Importances for the Jobs dataset using random forest regression  \n",
    "Optimized_RF_Jobs.fit(Concatenated_XT_train_Jobs, Jobs_y_train.flatten())\n",
    "features_Jobs = list(Concatenated_XT_train_Jobs)\n",
    "importances_Jobs = Optimized_RF_Jobs.feature_importances_\n",
    "std_Jobs = np.std([tree.feature_importances_ for tree in Optimized_RF_Jobs.estimators_], axis=0)\n",
    "indices_Jobs = np.argsort(importances_Jobs)[::-1]\n",
    "print(\"\")\n",
    "print(\"Feature Importances - Jobs\")\n",
    "for f in range(Concatenated_XT_train_Jobs.shape[1]):\n",
    "    print(\"%d. %s (%f)\" % (f + 1, \"Feature Column: \"+ str(indices_Jobs[f]), importances_Jobs[indices_Jobs[f]]))\n",
    "    "
   ]
  },
  {
   "cell_type": "code",
   "execution_count": 112,
   "id": "f2166577",
   "metadata": {},
   "outputs": [
    {
     "data": {
      "image/png": "[encoded data removed]",
      "text/plain": [
       "<Figure size 1152x288 with 2 Axes>"
      ]
     },
     "metadata": {
      "needs_background": "light"
     },
     "output_type": "display_data"
    }
   ],
   "source": [
    "fig, axs = plt.subplots(1, 2, figsize=(16, 4))\n",
    "axs[0].bar(range(Concatenated_XT_train_IHDP.shape[1]), importances_IHDP[indices_IHDP], color=\"r\", yerr=std_IHDP[indices_IHDP], align=\"center\")\n",
    "axs[0].set_xticks(range(Concatenated_XT_train_IHDP.shape[1]), indices_IHDP)\n",
    "axs[0].set_xlim([-1, Concatenated_XT_train_IHDP.shape[1]])\n",
    "axs[0].set_ylim([0, None])\n",
    "axs[0].set_title(\"Feature Importances - IHDP\", fontsize=12, fontweight=\"bold\")\n",
    "axs[1].bar(range(Concatenated_XT_train_Jobs.shape[1]), importances_Jobs[indices_Jobs], color=\"r\", yerr=std_Jobs[indices_Jobs], align=\"center\")\n",
    "axs[1].set_xticks(range(Concatenated_XT_train_Jobs.shape[1]), indices_Jobs)\n",
    "axs[1].set_xlim([-1, Concatenated_XT_train_Jobs.shape[1]])\n",
    "axs[1].set_ylim([0, None])\n",
    "axs[1].set_title(\"Feature Importances - Jobs\", fontsize=12, fontweight=\"bold\")\n",
    "plt.show()"
   ]
  },
  {
   "cell_type": "markdown",
   "id": "fab8e493",
   "metadata": {},
   "source": [
    "IHDP - We can clearly see that the most important feature in our IHDP dataset is the feature at column index 25 (We have used column indexes as we don't have titles to refer to). Column 25 in this case is our concatenated treatment data. The feature importances for this dataset are extremely skewed most being weighted towards column 25, and 5. \n",
    "\n",
    "Jobs - We can see that the feature importances for the jobs dataset are less skewed have a more balanced variation in scores. Both background features 7 and 12 are seemingly the most important with both having an equal score, furthermore we can see our treatment variable seemingly uninportant having been placed 12th"
   ]
  },
  {
   "cell_type": "markdown",
   "id": "29207b7c",
   "metadata": {},
   "source": [
    "## Linear Regressor\n",
    "Here we will start with a simple model similar to the random forest machine learning process, however we will need to standardize the data. Any features that are non binary will be standardized, including the label (assuming it's non-binary). First, we need to check for non binary columns"
   ]
  },
  {
   "cell_type": "code",
   "execution_count": 113,
   "id": "ed2afe28",
   "metadata": {},
   "outputs": [
    {
     "data": {
      "text/html": [
       "<div>\n",
       "<style scoped>\n",
       "    .dataframe tbody tr th:only-of-type {\n",
       "        vertical-align: middle;\n",
       "    }\n",
       "\n",
       "    .dataframe tbody tr th {\n",
       "        vertical-align: top;\n",
       "    }\n",
       "\n",
       "    .dataframe thead th {\n",
       "        text-align: right;\n",
       "    }\n",
       "</style>\n",
       "<table border=\"1\" class=\"dataframe\">\n",
       "  <thead>\n",
       "    <tr style=\"text-align: right;\">\n",
       "      <th></th>\n",
       "      <th>0</th>\n",
       "      <th>1</th>\n",
       "      <th>2</th>\n",
       "      <th>3</th>\n",
       "      <th>4</th>\n",
       "      <th>5</th>\n",
       "      <th>6</th>\n",
       "      <th>7</th>\n",
       "      <th>8</th>\n",
       "      <th>9</th>\n",
       "      <th>10</th>\n",
       "      <th>11</th>\n",
       "      <th>12</th>\n",
       "      <th>13</th>\n",
       "      <th>14</th>\n",
       "      <th>15</th>\n",
       "      <th>16</th>\n",
       "    </tr>\n",
       "  </thead>\n",
       "  <tbody>\n",
       "    <tr>\n",
       "      <th>0</th>\n",
       "      <td>-0.332011</td>\n",
       "      <td>0.783281</td>\n",
       "      <td>0.0</td>\n",
       "      <td>0.0</td>\n",
       "      <td>1.0</td>\n",
       "      <td>0.0</td>\n",
       "      <td>0.239950</td>\n",
       "      <td>0.433634</td>\n",
       "      <td>-0.435556</td>\n",
       "      <td>-0.499853</td>\n",
       "      <td>0.743585</td>\n",
       "      <td>-0.094318</td>\n",
       "      <td>0.035185</td>\n",
       "      <td>0.0</td>\n",
       "      <td>0.0</td>\n",
       "      <td>0.331067</td>\n",
       "      <td>0.0</td>\n",
       "    </tr>\n",
       "    <tr>\n",
       "      <th>1</th>\n",
       "      <td>-1.367005</td>\n",
       "      <td>-1.261057</td>\n",
       "      <td>0.0</td>\n",
       "      <td>0.0</td>\n",
       "      <td>0.0</td>\n",
       "      <td>1.0</td>\n",
       "      <td>-1.063009</td>\n",
       "      <td>-1.013806</td>\n",
       "      <td>-1.117857</td>\n",
       "      <td>-0.927646</td>\n",
       "      <td>-1.201098</td>\n",
       "      <td>-0.556341</td>\n",
       "      <td>-0.516644</td>\n",
       "      <td>0.0</td>\n",
       "      <td>0.0</td>\n",
       "      <td>-0.934404</td>\n",
       "      <td>0.0</td>\n",
       "    </tr>\n",
       "    <tr>\n",
       "      <th>2</th>\n",
       "      <td>1.173434</td>\n",
       "      <td>0.101835</td>\n",
       "      <td>0.0</td>\n",
       "      <td>0.0</td>\n",
       "      <td>1.0</td>\n",
       "      <td>0.0</td>\n",
       "      <td>1.114277</td>\n",
       "      <td>0.857365</td>\n",
       "      <td>1.127006</td>\n",
       "      <td>1.038605</td>\n",
       "      <td>-0.022502</td>\n",
       "      <td>0.674367</td>\n",
       "      <td>0.380960</td>\n",
       "      <td>0.0</td>\n",
       "      <td>0.0</td>\n",
       "      <td>0.851974</td>\n",
       "      <td>0.0</td>\n",
       "    </tr>\n",
       "    <tr>\n",
       "      <th>3</th>\n",
       "      <td>-0.802463</td>\n",
       "      <td>0.101835</td>\n",
       "      <td>1.0</td>\n",
       "      <td>0.0</td>\n",
       "      <td>1.0</td>\n",
       "      <td>0.0</td>\n",
       "      <td>-0.085212</td>\n",
       "      <td>-0.263007</td>\n",
       "      <td>-0.785284</td>\n",
       "      <td>-0.743407</td>\n",
       "      <td>-0.022502</td>\n",
       "      <td>-0.286221</td>\n",
       "      <td>-0.351938</td>\n",
       "      <td>0.0</td>\n",
       "      <td>0.0</td>\n",
       "      <td>-0.119606</td>\n",
       "      <td>0.0</td>\n",
       "    </tr>\n",
       "    <tr>\n",
       "      <th>4</th>\n",
       "      <td>-0.237921</td>\n",
       "      <td>0.783281</td>\n",
       "      <td>0.0</td>\n",
       "      <td>0.0</td>\n",
       "      <td>1.0</td>\n",
       "      <td>0.0</td>\n",
       "      <td>0.059304</td>\n",
       "      <td>0.146360</td>\n",
       "      <td>-0.357691</td>\n",
       "      <td>-0.439662</td>\n",
       "      <td>0.743585</td>\n",
       "      <td>-0.207221</td>\n",
       "      <td>-0.151779</td>\n",
       "      <td>0.0</td>\n",
       "      <td>0.0</td>\n",
       "      <td>0.160358</td>\n",
       "      <td>0.0</td>\n",
       "    </tr>\n",
       "  </tbody>\n",
       "</table>\n",
       "</div>"
      ],
      "text/plain": [
       "         0         1    2    3    4    5         6         7         8   \\\n",
       "0 -0.332011  0.783281  0.0  0.0  1.0  0.0  0.239950  0.433634 -0.435556   \n",
       "1 -1.367005 -1.261057  0.0  0.0  0.0  1.0 -1.063009 -1.013806 -1.117857   \n",
       "2  1.173434  0.101835  0.0  0.0  1.0  0.0  1.114277  0.857365  1.127006   \n",
       "3 -0.802463  0.101835  1.0  0.0  1.0  0.0 -0.085212 -0.263007 -0.785284   \n",
       "4 -0.237921  0.783281  0.0  0.0  1.0  0.0  0.059304  0.146360 -0.357691   \n",
       "\n",
       "         9         10        11        12   13   14        15   16  \n",
       "0 -0.499853  0.743585 -0.094318  0.035185  0.0  0.0  0.331067  0.0  \n",
       "1 -0.927646 -1.201098 -0.556341 -0.516644  0.0  0.0 -0.934404  0.0  \n",
       "2  1.038605 -0.022502  0.674367  0.380960  0.0  0.0  0.851974  0.0  \n",
       "3 -0.743407 -0.022502 -0.286221 -0.351938  0.0  0.0 -0.119606  0.0  \n",
       "4 -0.439662  0.743585 -0.207221 -0.151779  0.0  0.0  0.160358  0.0  "
      ]
     },
     "execution_count": 113,
     "metadata": {},
     "output_type": "execute_result"
    }
   ],
   "source": [
    "temp_X_IHDP = pd.DataFrame(IHDP_x_train)\n",
    "temp_X_test_IHDP = pd.DataFrame(IHDP_x_test)\n",
    "#temp_X_IHDP.head()\n",
    "temp_yf_IHDP = pd.DataFrame(IHDP_yf_train)\n",
    "#temp_yf_IHDP.head()\n",
    "#[temp_X_IHDP[cols].unique() for cols in temp_X_IHDP]\n",
    "\n",
    "temp_X_Jobs = pd.DataFrame(Jobs_x_train)\n",
    "temp_X_test_Jobs = pd.DataFrame(Jobs_x_test)\n",
    "#temp_X_Jobs.head()\n",
    "#[temp_X_Jobs[cols].unique() for cols in temp_X_Jobs]\n",
    "temp_X_Jobs.head()"
   ]
  },
  {
   "cell_type": "markdown",
   "id": "036ea9be",
   "metadata": {},
   "source": [
    "### Scaling the data"
   ]
  },
  {
   "cell_type": "markdown",
   "id": "927c07e9",
   "metadata": {},
   "source": [
    "IHDP - We can see that columns 0-5 all require standard scaling, the rest are binary and therefore do not. We also know from previous modelling that our outcome column requires Standard scaling.\n",
    "\n",
    "Jobs - We can see that columns 0,1,6,7,8,9,10,11,12,15 all require standard scaling, the rest are binary and therefore do not. We also know from previous modelling that both our outcome and treatment columns are both binary and therefore also do not require any scaling."
   ]
  },
  {
   "cell_type": "code",
   "execution_count": 114,
   "id": "4b51ba31",
   "metadata": {},
   "outputs": [
    {
     "data": {
      "text/html": [
       "<div>\n",
       "<style scoped>\n",
       "    .dataframe tbody tr th:only-of-type {\n",
       "        vertical-align: middle;\n",
       "    }\n",
       "\n",
       "    .dataframe tbody tr th {\n",
       "        vertical-align: top;\n",
       "    }\n",
       "\n",
       "    .dataframe thead th {\n",
       "        text-align: right;\n",
       "    }\n",
       "</style>\n",
       "<table border=\"1\" class=\"dataframe\">\n",
       "  <thead>\n",
       "    <tr style=\"text-align: right;\">\n",
       "      <th></th>\n",
       "      <th>0</th>\n",
       "      <th>1</th>\n",
       "      <th>2</th>\n",
       "      <th>3</th>\n",
       "      <th>4</th>\n",
       "      <th>5</th>\n",
       "      <th>6</th>\n",
       "      <th>7</th>\n",
       "      <th>8</th>\n",
       "      <th>9</th>\n",
       "      <th>10</th>\n",
       "      <th>11</th>\n",
       "      <th>12</th>\n",
       "      <th>13</th>\n",
       "      <th>14</th>\n",
       "      <th>15</th>\n",
       "      <th>16</th>\n",
       "    </tr>\n",
       "  </thead>\n",
       "  <tbody>\n",
       "    <tr>\n",
       "      <th>0</th>\n",
       "      <td>-0.333640</td>\n",
       "      <td>0.793828</td>\n",
       "      <td>0.0</td>\n",
       "      <td>0.0</td>\n",
       "      <td>1.0</td>\n",
       "      <td>0.0</td>\n",
       "      <td>0.243889</td>\n",
       "      <td>0.433519</td>\n",
       "      <td>-0.437071</td>\n",
       "      <td>-0.501097</td>\n",
       "      <td>0.756902</td>\n",
       "      <td>-0.091168</td>\n",
       "      <td>0.033472</td>\n",
       "      <td>0.0</td>\n",
       "      <td>0.0</td>\n",
       "      <td>0.340166</td>\n",
       "      <td>0.0</td>\n",
       "    </tr>\n",
       "    <tr>\n",
       "      <th>1</th>\n",
       "      <td>-1.365976</td>\n",
       "      <td>-1.248920</td>\n",
       "      <td>0.0</td>\n",
       "      <td>0.0</td>\n",
       "      <td>0.0</td>\n",
       "      <td>1.0</td>\n",
       "      <td>-1.065070</td>\n",
       "      <td>-1.007946</td>\n",
       "      <td>-1.116929</td>\n",
       "      <td>-0.926842</td>\n",
       "      <td>-1.193638</td>\n",
       "      <td>-0.555928</td>\n",
       "      <td>-0.509009</td>\n",
       "      <td>0.0</td>\n",
       "      <td>0.0</td>\n",
       "      <td>-0.940238</td>\n",
       "      <td>0.0</td>\n",
       "    </tr>\n",
       "    <tr>\n",
       "      <th>2</th>\n",
       "      <td>1.167940</td>\n",
       "      <td>0.112912</td>\n",
       "      <td>0.0</td>\n",
       "      <td>0.0</td>\n",
       "      <td>1.0</td>\n",
       "      <td>0.0</td>\n",
       "      <td>1.122241</td>\n",
       "      <td>0.855500</td>\n",
       "      <td>1.119896</td>\n",
       "      <td>1.029997</td>\n",
       "      <td>-0.011492</td>\n",
       "      <td>0.682069</td>\n",
       "      <td>0.373390</td>\n",
       "      <td>0.0</td>\n",
       "      <td>0.0</td>\n",
       "      <td>0.867221</td>\n",
       "      <td>0.0</td>\n",
       "    </tr>\n",
       "    <tr>\n",
       "      <th>3</th>\n",
       "      <td>-0.802883</td>\n",
       "      <td>0.112912</td>\n",
       "      <td>1.0</td>\n",
       "      <td>0.0</td>\n",
       "      <td>1.0</td>\n",
       "      <td>0.0</td>\n",
       "      <td>-0.082771</td>\n",
       "      <td>-0.260246</td>\n",
       "      <td>-0.785548</td>\n",
       "      <td>-0.743485</td>\n",
       "      <td>-0.011492</td>\n",
       "      <td>-0.284209</td>\n",
       "      <td>-0.347093</td>\n",
       "      <td>0.0</td>\n",
       "      <td>0.0</td>\n",
       "      <td>-0.115824</td>\n",
       "      <td>0.0</td>\n",
       "    </tr>\n",
       "    <tr>\n",
       "      <th>4</th>\n",
       "      <td>-0.239791</td>\n",
       "      <td>0.793828</td>\n",
       "      <td>0.0</td>\n",
       "      <td>0.0</td>\n",
       "      <td>1.0</td>\n",
       "      <td>0.0</td>\n",
       "      <td>0.062411</td>\n",
       "      <td>0.147430</td>\n",
       "      <td>-0.359486</td>\n",
       "      <td>-0.441194</td>\n",
       "      <td>0.756902</td>\n",
       "      <td>-0.204740</td>\n",
       "      <td>-0.150325</td>\n",
       "      <td>0.0</td>\n",
       "      <td>0.0</td>\n",
       "      <td>0.167443</td>\n",
       "      <td>0.0</td>\n",
       "    </tr>\n",
       "  </tbody>\n",
       "</table>\n",
       "</div>"
      ],
      "text/plain": [
       "         0         1    2    3    4    5         6         7         8   \\\n",
       "0 -0.333640  0.793828  0.0  0.0  1.0  0.0  0.243889  0.433519 -0.437071   \n",
       "1 -1.365976 -1.248920  0.0  0.0  0.0  1.0 -1.065070 -1.007946 -1.116929   \n",
       "2  1.167940  0.112912  0.0  0.0  1.0  0.0  1.122241  0.855500  1.119896   \n",
       "3 -0.802883  0.112912  1.0  0.0  1.0  0.0 -0.082771 -0.260246 -0.785548   \n",
       "4 -0.239791  0.793828  0.0  0.0  1.0  0.0  0.062411  0.147430 -0.359486   \n",
       "\n",
       "         9         10        11        12   13   14        15   16  \n",
       "0 -0.501097  0.756902 -0.091168  0.033472  0.0  0.0  0.340166  0.0  \n",
       "1 -0.926842 -1.193638 -0.555928 -0.509009  0.0  0.0 -0.940238  0.0  \n",
       "2  1.029997 -0.011492  0.682069  0.373390  0.0  0.0  0.867221  0.0  \n",
       "3 -0.743485 -0.011492 -0.284209 -0.347093  0.0  0.0 -0.115824  0.0  \n",
       "4 -0.441194  0.756902 -0.204740 -0.150325  0.0  0.0  0.167443  0.0  "
      ]
     },
     "execution_count": 114,
     "metadata": {},
     "output_type": "execute_result"
    }
   ],
   "source": [
    "# IHDP\n",
    "# Scale the first 6 columns of our features (all non binary)\n",
    "temp_X_IHDP.iloc[:, 0:5] = StandardScaler().fit_transform(temp_X_IHDP.iloc[:, 0:5])\n",
    "temp_X_test_IHDP.iloc[:, 0:5] = StandardScaler().fit_transform(temp_X_test_IHDP.iloc[:, 0:5])\n",
    "# Scale our outcomes column \n",
    "IHDP_yf_train_Standardized = StandardScaler().fit_transform(temp_yf_IHDP) \n",
    "#temp_X_IHDP.head()\n",
    "IHDP_x_train_Standardized = temp_X_IHDP.to_numpy()\n",
    "IHDP_x_test_Standardized = temp_X_test_IHDP.to_numpy()\n",
    "\n",
    "\n",
    "# Jobs\n",
    "# Scale columns 0,1,6,7,8,9,10,11,12,15 (all non binary)\n",
    "temp_X_Jobs.iloc[:, [0,1,6,7,8,9,10,11,12,15]] = StandardScaler().fit_transform(temp_X_Jobs.iloc[:, [0,1,6,7,8,9,10,11,12,15]])\n",
    "temp_X_test_Jobs.iloc[:, [0,1,6,7,8,9,10,11,12,15]] = StandardScaler().fit_transform(temp_X_test_Jobs.iloc[:, [0,1,6,7,8,9,10,11,12,15]]) \n",
    "Jobs_x_train_Standardized = temp_X_Jobs.to_numpy()\n",
    "Jobs_x_test_Standardized = temp_X_test_Jobs.to_numpy()\n",
    "temp_X_Jobs.head()"
   ]
  },
  {
   "cell_type": "code",
   "execution_count": 115,
   "id": "8b266c0e",
   "metadata": {},
   "outputs": [],
   "source": [
    "### Simple Linear Regressors"
   ]
  },
  {
   "cell_type": "markdown",
   "id": "3bc913bc",
   "metadata": {},
   "source": [
    "Now that we have scaled our data, we can start to produce some simple linear regressors using our background features concatenated with our treatment column and our training data outcomes"
   ]
  },
  {
   "cell_type": "code",
   "execution_count": 116,
   "id": "4d9aa5d6",
   "metadata": {},
   "outputs": [],
   "source": [
    "# Concatenate the treatment and feature columns for both datasets \n",
    "Concatenated_XT_train_IHDP = np.concatenate([IHDP_x_train_Standardized, IHDP_t_train], axis=1)\n",
    "Linear_Regressor_IHDP = LinearRegression().fit(Concatenated_XT_train_IHDP, IHDP_yf_train_Standardized.flatten())\n",
    "\n",
    "Concatenated_XT_train_Jobs = np.concatenate([Jobs_x_train_Standardized, Jobs_t_train], axis=1)\n",
    "Linear_Regressor_Jobs = LinearRegression().fit(Concatenated_XT_train_Jobs, Jobs_y_train.flatten())\n"
   ]
  },
  {
   "cell_type": "markdown",
   "id": "7ff440bd",
   "metadata": {},
   "source": [
    "We can now once again predict Y0 and Y1 given t=0 and t=1 respectively"
   ]
  },
  {
   "cell_type": "code",
   "execution_count": 122,
   "id": "85c36b3a",
   "metadata": {},
   "outputs": [],
   "source": [
    "# t=0 - IHDP\n",
    "Concatenated_XT_zeros_IHDP = np.concatenate([IHDP_x_test_Standardized, np.zeros_like(IHDP_t_test)], axis=1)\n",
    "Y0_IHDP = Linear_Regressor_IHDP.predict(Concatenated_XT_zeros_IHDP)\n",
    "# t=1 - IHDP\n",
    "Concatenated_XT_ones_IHDP = np.concatenate([IHDP_x_test_Standardized, np.ones_like(IHDP_t_test)], axis=1)\n",
    "Y1_IHDP = Linear_Regressor_IHDP.predict(Concatenated_XT_ones_IHDP)\n",
    "\n",
    "\n",
    "# t=0 - Jobs\n",
    "Concatenated_XT_zeros_Jobs = np.concatenate([Jobs_x_test_Standardized, np.zeros_like(Jobs_t_test)], axis=1)\n",
    "Y0_Jobs = Linear_Regressor_Jobs.predict(Concatenated_XT_zeros_Jobs)\n",
    "# t=1 - Jobs\n",
    "Concatenated_XT_ones_Jobs = np.concatenate([Jobs_x_test_Standardized, np.ones_like(Jobs_t_test)], axis=1)\n",
    "Y1_Jobs = Linear_Regressor_Jobs.predict(Concatenated_XT_ones_Jobs)"
   ]
  },
  {
   "cell_type": "markdown",
   "id": "a2a4b783",
   "metadata": {},
   "source": [
    "Now we can calculate our effect estimates as Y1-Y0 also referred to as individual treatment effect"
   ]
  },
  {
   "cell_type": "code",
   "execution_count": 123,
   "id": "443750ff",
   "metadata": {},
   "outputs": [],
   "source": [
    "#ITEs for IHDP dataset\n",
    "Effect_Estimates_IHDP_LR = Y1_IHDP - Y0_IHDP\n",
    "#ITEs for Jobs dataset\n",
    "Effect_Estimates_Jobs_LR = Y1_Jobs - Y0_Jobs"
   ]
  },
  {
   "cell_type": "markdown",
   "id": "a03d2759",
   "metadata": {},
   "source": [
    "### Metric Evaluation"
   ]
  },
  {
   "cell_type": "code",
   "execution_count": 124,
   "id": "3e533559",
   "metadata": {},
   "outputs": [],
   "source": [
    "ATE_IHDP_LR = abs_ate(IHDP_ite_test, Effect_Estimates_IHDP_LR)\n",
    "PEHE_IHDP_LR = pehe(IHDP_ite_test, Effect_Estimates_IHDP_LR)\n",
    "ATT_Jobs_LR = abs_att(Effect_Estimates_Jobs_LR, Jobs_y_test.flatten(), Jobs_t_test.flatten(), Jobs_e_test.flatten())\n",
    "Rpol_LR = policy_risk(Effect_Estimates_Jobs_LR, Jobs_y_test.flatten(), Jobs_t_test.flatten(), Jobs_e_test.flatten())"
   ]
  },
  {
   "cell_type": "code",
   "execution_count": 125,
   "id": "205768eb",
   "metadata": {},
   "outputs": [
    {
     "data": {
      "text/html": [
       "<div>\n",
       "<style scoped>\n",
       "    .dataframe tbody tr th:only-of-type {\n",
       "        vertical-align: middle;\n",
       "    }\n",
       "\n",
       "    .dataframe tbody tr th {\n",
       "        vertical-align: top;\n",
       "    }\n",
       "\n",
       "    .dataframe thead th {\n",
       "        text-align: right;\n",
       "    }\n",
       "</style>\n",
       "<table border=\"1\" class=\"dataframe\">\n",
       "  <thead>\n",
       "    <tr style=\"text-align: right;\">\n",
       "      <th></th>\n",
       "      <th>Method</th>\n",
       "      <th>ATE test</th>\n",
       "      <th>PEHE test</th>\n",
       "    </tr>\n",
       "  </thead>\n",
       "  <tbody>\n",
       "    <tr>\n",
       "      <th>0</th>\n",
       "      <td>RF</td>\n",
       "      <td>1.305712</td>\n",
       "      <td>0.116149</td>\n",
       "    </tr>\n",
       "    <tr>\n",
       "      <th>1</th>\n",
       "      <td>Optimized RF</td>\n",
       "      <td>1.254617</td>\n",
       "      <td>0.137322</td>\n",
       "    </tr>\n",
       "    <tr>\n",
       "      <th>2</th>\n",
       "      <td>LR</td>\n",
       "      <td>2.401287</td>\n",
       "      <td>2.263552</td>\n",
       "    </tr>\n",
       "  </tbody>\n",
       "</table>\n",
       "</div>"
      ],
      "text/plain": [
       "         Method  ATE test  PEHE test\n",
       "0            RF  1.305712   0.116149\n",
       "1  Optimized RF  1.254617   0.137322\n",
       "2            LR  2.401287   2.263552"
      ]
     },
     "execution_count": 125,
     "metadata": {},
     "output_type": "execute_result"
    }
   ],
   "source": [
    "# Metrics for IHDP dataset\n",
    "results = []\n",
    "results.append(['RF', ATE_IHDP, PEHE_IHDP])\n",
    "results.append(['Optimized RF', ATE_IHDP_Optimized, PEHE_IHDP_Optimized])\n",
    "results.append(['LR', ATE_IHDP_LR, PEHE_IHDP_LR])\n",
    "cols = ['Method', 'ATE test', 'PEHE test']\n",
    "df_First = pd.DataFrame(results, columns=cols)\n",
    "df_First"
   ]
  },
  {
   "cell_type": "code",
   "execution_count": 126,
   "id": "c884c4c8",
   "metadata": {},
   "outputs": [
    {
     "data": {
      "text/html": [
       "<div>\n",
       "<style scoped>\n",
       "    .dataframe tbody tr th:only-of-type {\n",
       "        vertical-align: middle;\n",
       "    }\n",
       "\n",
       "    .dataframe tbody tr th {\n",
       "        vertical-align: top;\n",
       "    }\n",
       "\n",
       "    .dataframe thead th {\n",
       "        text-align: right;\n",
       "    }\n",
       "</style>\n",
       "<table border=\"1\" class=\"dataframe\">\n",
       "  <thead>\n",
       "    <tr style=\"text-align: right;\">\n",
       "      <th></th>\n",
       "      <th>Method</th>\n",
       "      <th>ATT test</th>\n",
       "      <th>Risk Policy</th>\n",
       "    </tr>\n",
       "  </thead>\n",
       "  <tbody>\n",
       "    <tr>\n",
       "      <th>0</th>\n",
       "      <td>RF</td>\n",
       "      <td>0.063641</td>\n",
       "      <td>0.202295</td>\n",
       "    </tr>\n",
       "    <tr>\n",
       "      <th>1</th>\n",
       "      <td>Optimized RF</td>\n",
       "      <td>0.033940</td>\n",
       "      <td>0.217834</td>\n",
       "    </tr>\n",
       "    <tr>\n",
       "      <th>2</th>\n",
       "      <td>LR</td>\n",
       "      <td>0.006004</td>\n",
       "      <td>0.224490</td>\n",
       "    </tr>\n",
       "  </tbody>\n",
       "</table>\n",
       "</div>"
      ],
      "text/plain": [
       "         Method  ATT test  Risk Policy\n",
       "0            RF  0.063641     0.202295\n",
       "1  Optimized RF  0.033940     0.217834\n",
       "2            LR  0.006004     0.224490"
      ]
     },
     "execution_count": 126,
     "metadata": {},
     "output_type": "execute_result"
    }
   ],
   "source": [
    "# Metrics for Jobs Dataset\n",
    "results_ = []\n",
    "results_.append(['RF', ATT_Jobs, Rpol])\n",
    "results_.append(['Optimized RF', ATT_Jobs_Optimized, Rpol_Optimized])\n",
    "results_.append(['LR', ATT_Jobs_LR, Rpol_LR])\n",
    "cols_ = ['Method', 'ATT test', 'Risk Policy']\n",
    "df_Second = pd.DataFrame(results_, columns=cols_)\n",
    "df_Second"
   ]
  },
  {
   "cell_type": "markdown",
   "id": "bdae7766",
   "metadata": {},
   "source": [
    "For hyperparameter tuning, we can execute a grid search using the selection of parameters available to us to find the best performing linear regression model"
   ]
  },
  {
   "cell_type": "markdown",
   "id": "69845cc3",
   "metadata": {},
   "source": [
    "### Grid Search IHDP"
   ]
  },
  {
   "cell_type": "code",
   "execution_count": 128,
   "id": "29fcb832",
   "metadata": {},
   "outputs": [
    {
     "name": "stdout",
     "output_type": "stream",
     "text": [
      "Fitting 10 folds for each of 4 candidates, totalling 40 fits\n"
     ]
    },
    {
     "data": {
      "text/plain": [
       "{'fit_intercept': True, 'positive': True}"
      ]
     },
     "execution_count": 128,
     "metadata": {},
     "output_type": "execute_result"
    }
   ],
   "source": [
    "LinearRegressor_IHDP = LinearRegression()\n",
    "param_grid = {'fit_intercept': [True, False],\n",
    " 'positive': [True, False]} \n",
    "LinearRegressor_Grid_IHDP = GridSearchCV(estimator = LinearRegressor_IHDP, param_grid=param_grid, cv = 10, verbose=2, n_jobs = -1)\n",
    "LinearRegressor_Grid_IHDP.fit(Concatenated_XT_train_IHDP, IHDP_yf_train_Standardized.flatten())\n",
    "LinearRegressor_Grid_IHDP.best_params_"
   ]
  },
  {
   "cell_type": "markdown",
   "id": "8c24b7ee",
   "metadata": {},
   "source": [
    "### Grid Search Jobs"
   ]
  },
  {
   "cell_type": "code",
   "execution_count": 129,
   "id": "b5b20e24",
   "metadata": {},
   "outputs": [
    {
     "name": "stdout",
     "output_type": "stream",
     "text": [
      "Fitting 10 folds for each of 4 candidates, totalling 40 fits\n"
     ]
    },
    {
     "data": {
      "text/plain": [
       "{'fit_intercept': True, 'positive': False}"
      ]
     },
     "execution_count": 129,
     "metadata": {},
     "output_type": "execute_result"
    }
   ],
   "source": [
    "LinearRegressor_Jobs = LinearRegression()\n",
    "param_grid = {'fit_intercept': [True, False],\n",
    " 'positive': [True, False]} \n",
    "LinearRegressor_Grid_Jobs = GridSearchCV(estimator = LinearRegressor_Jobs, param_grid=param_grid, cv = 10, verbose=2, n_jobs = -1)\n",
    "LinearRegressor_Grid_Jobs.fit(Concatenated_XT_train_Jobs, Jobs_y_train.flatten())\n",
    "LinearRegressor_Grid_Jobs.best_params_"
   ]
  },
  {
   "cell_type": "markdown",
   "id": "380c7dd7",
   "metadata": {},
   "source": [
    "### Performance Evaluation"
   ]
  },
  {
   "cell_type": "markdown",
   "id": "d0f4e6f7",
   "metadata": {},
   "source": [
    "Now we can evaluate the performance of our regressor using the metric we chose for the dataset in combination with 10 fold cross validation"
   ]
  },
  {
   "cell_type": "code",
   "execution_count": 130,
   "id": "13bc6eee",
   "metadata": {
    "scrolled": true
   },
   "outputs": [],
   "source": [
    "LR_IHDP_Optimized = LinearRegression(fit_intercept=True, positive=True)\n",
    "LR_IHDP_Optimized.fit(Concatenated_XT_train_IHDP, IHDP_yf_train_Standardized.flatten())\n",
    "\n",
    "# t=0 - IHDP\n",
    "Concatenated_XT_zeros_IHDP = np.concatenate([IHDP_x_test_Standardized, np.zeros_like(IHDP_t_test)], axis=1)\n",
    "Y0_IHDP = LR_IHDP_Optimized.predict(Concatenated_XT_zeros_IHDP)\n",
    "# t=1 - IHDP\n",
    "Concatenated_XT_ones_IHDP = np.concatenate([IHDP_x_test_Standardized, np.ones_like(IHDP_t_test)], axis=1)\n",
    "Y1_IHDP = LR_IHDP_Optimized.predict(Concatenated_XT_ones_IHDP)\n",
    "\n",
    "LR_Jobs_Optimized = LinearRegression(fit_intercept=True, positive=False)\n",
    "LR_Jobs_Optimized.fit(Concatenated_XT_train_Jobs, Jobs_y_train.flatten())\n",
    "\n",
    "# t=0 - Jobs\n",
    "Concatenated_XT_zeros_Jobs = np.concatenate([Jobs_x_test_Standardized, np.zeros_like(Jobs_t_test)], axis=1)\n",
    "Y0_Jobs = LR_Jobs_Optimized.predict(Concatenated_XT_zeros_Jobs)\n",
    "# t=1 - Jobs\n",
    "Concatenated_XT_ones_Jobs = np.concatenate([Jobs_x_test_Standardized, np.ones_like(Jobs_t_test)], axis=1)\n",
    "Y1_Jobs = LR_Jobs_Optimized.predict(Concatenated_XT_ones_Jobs)\n",
    "\n",
    "#ITEs for IHDP dataset\n",
    "Effect_Estimates_IHDP_LR_Optimized = Y1_IHDP - Y0_IHDP\n",
    "#ITEs for Jobs dataset\n",
    "Effect_Estimates_Jobs_LR_Optimized = Y1_Jobs - Y0_Jobs"
   ]
  },
  {
   "cell_type": "code",
   "execution_count": 131,
   "id": "44b3d2f6",
   "metadata": {},
   "outputs": [],
   "source": [
    "ATE_IHDP_LR_Optimized = abs_ate(IHDP_ite_test, Effect_Estimates_IHDP_LR_Optimized)\n",
    "PEHE_IHDP_LR_Optimized = pehe(IHDP_ite_test, Effect_Estimates_IHDP_LR_Optimized)\n",
    "ATT_Jobs_LR_Optimized = abs_att(Effect_Estimates_Jobs_LR_Optimized, Jobs_y_test.flatten(), Jobs_t_test.flatten(), Jobs_e_test.flatten())\n",
    "Rpol_LR_Optimized = policy_risk(Effect_Estimates_Jobs_LR_Optimized, Jobs_y_test.flatten(), Jobs_t_test.flatten(), Jobs_e_test.flatten())"
   ]
  },
  {
   "cell_type": "code",
   "execution_count": 132,
   "id": "f55f1e21",
   "metadata": {},
   "outputs": [
    {
     "data": {
      "text/html": [
       "<div>\n",
       "<style scoped>\n",
       "    .dataframe tbody tr th:only-of-type {\n",
       "        vertical-align: middle;\n",
       "    }\n",
       "\n",
       "    .dataframe tbody tr th {\n",
       "        vertical-align: top;\n",
       "    }\n",
       "\n",
       "    .dataframe thead th {\n",
       "        text-align: right;\n",
       "    }\n",
       "</style>\n",
       "<table border=\"1\" class=\"dataframe\">\n",
       "  <thead>\n",
       "    <tr style=\"text-align: right;\">\n",
       "      <th></th>\n",
       "      <th>Method</th>\n",
       "      <th>ATE test</th>\n",
       "      <th>PEHE test</th>\n",
       "    </tr>\n",
       "  </thead>\n",
       "  <tbody>\n",
       "    <tr>\n",
       "      <th>0</th>\n",
       "      <td>RF</td>\n",
       "      <td>1.305712</td>\n",
       "      <td>0.116149</td>\n",
       "    </tr>\n",
       "    <tr>\n",
       "      <th>1</th>\n",
       "      <td>Optimized RF</td>\n",
       "      <td>1.254617</td>\n",
       "      <td>0.137322</td>\n",
       "    </tr>\n",
       "    <tr>\n",
       "      <th>2</th>\n",
       "      <td>LR</td>\n",
       "      <td>2.401287</td>\n",
       "      <td>2.263552</td>\n",
       "    </tr>\n",
       "    <tr>\n",
       "      <th>3</th>\n",
       "      <td>Optimized LR</td>\n",
       "      <td>2.410418</td>\n",
       "      <td>2.273235</td>\n",
       "    </tr>\n",
       "  </tbody>\n",
       "</table>\n",
       "</div>"
      ],
      "text/plain": [
       "         Method  ATE test  PEHE test\n",
       "0            RF  1.305712   0.116149\n",
       "1  Optimized RF  1.254617   0.137322\n",
       "2            LR  2.401287   2.263552\n",
       "3  Optimized LR  2.410418   2.273235"
      ]
     },
     "execution_count": 132,
     "metadata": {},
     "output_type": "execute_result"
    }
   ],
   "source": [
    "# Metrics for IHDP dataset\n",
    "results = []\n",
    "results.append(['RF', ATE_IHDP, PEHE_IHDP])\n",
    "results.append(['Optimized RF', ATE_IHDP_Optimized, PEHE_IHDP_Optimized])\n",
    "results.append(['LR', ATE_IHDP_LR, PEHE_IHDP_LR])\n",
    "results.append(['Optimized LR', ATE_IHDP_LR_Optimized, PEHE_IHDP_LR_Optimized])\n",
    "cols = ['Method', 'ATE test', 'PEHE test']\n",
    "df_First = pd.DataFrame(results, columns=cols)\n",
    "df_First"
   ]
  },
  {
   "cell_type": "code",
   "execution_count": 134,
   "id": "ae4e15a6",
   "metadata": {},
   "outputs": [
    {
     "data": {
      "text/html": [
       "<div>\n",
       "<style scoped>\n",
       "    .dataframe tbody tr th:only-of-type {\n",
       "        vertical-align: middle;\n",
       "    }\n",
       "\n",
       "    .dataframe tbody tr th {\n",
       "        vertical-align: top;\n",
       "    }\n",
       "\n",
       "    .dataframe thead th {\n",
       "        text-align: right;\n",
       "    }\n",
       "</style>\n",
       "<table border=\"1\" class=\"dataframe\">\n",
       "  <thead>\n",
       "    <tr style=\"text-align: right;\">\n",
       "      <th></th>\n",
       "      <th>Method</th>\n",
       "      <th>ATT test</th>\n",
       "      <th>Risk Policy</th>\n",
       "    </tr>\n",
       "  </thead>\n",
       "  <tbody>\n",
       "    <tr>\n",
       "      <th>0</th>\n",
       "      <td>RF</td>\n",
       "      <td>0.063641</td>\n",
       "      <td>0.202295</td>\n",
       "    </tr>\n",
       "    <tr>\n",
       "      <th>1</th>\n",
       "      <td>Optimized RF</td>\n",
       "      <td>0.033940</td>\n",
       "      <td>0.217834</td>\n",
       "    </tr>\n",
       "    <tr>\n",
       "      <th>2</th>\n",
       "      <td>LR</td>\n",
       "      <td>0.006004</td>\n",
       "      <td>0.224490</td>\n",
       "    </tr>\n",
       "    <tr>\n",
       "      <th>3</th>\n",
       "      <td>Optimized LR</td>\n",
       "      <td>0.006004</td>\n",
       "      <td>0.224490</td>\n",
       "    </tr>\n",
       "  </tbody>\n",
       "</table>\n",
       "</div>"
      ],
      "text/plain": [
       "         Method  ATT test  Risk Policy\n",
       "0            RF  0.063641     0.202295\n",
       "1  Optimized RF  0.033940     0.217834\n",
       "2            LR  0.006004     0.224490\n",
       "3  Optimized LR  0.006004     0.224490"
      ]
     },
     "execution_count": 134,
     "metadata": {},
     "output_type": "execute_result"
    }
   ],
   "source": [
    "# Metrics for Jobs Dataset\n",
    "results_ = []\n",
    "results_.append(['RF', ATT_Jobs, Rpol])\n",
    "results_.append(['Optimized RF', ATT_Jobs_Optimized, Rpol_Optimized])\n",
    "results_.append(['LR', ATT_Jobs_LR, Rpol_LR])\n",
    "results_.append(['Optimized LR', ATT_Jobs_LR_Optimized, Rpol_LR_Optimized])\n",
    "cols_ = ['Method', 'ATT test', 'Risk Policy']\n",
    "df_Second = pd.DataFrame(results_, columns=cols_)\n",
    "df_Second"
   ]
  },
  {
   "cell_type": "markdown",
   "id": "7c34aa41",
   "metadata": {},
   "source": [
    "### Feature Importances"
   ]
  },
  {
   "cell_type": "markdown",
   "id": "e3c30d2b",
   "metadata": {},
   "source": [
    "Finally we can plot and vizualise the feature importances of the data, from most useful to least useful. As the columns don't have a title, we can recognize feature by their column indices."
   ]
  },
  {
   "cell_type": "code",
   "execution_count": 135,
   "id": "a7ff63f2",
   "metadata": {},
   "outputs": [
    {
     "name": "stdout",
     "output_type": "stream",
     "text": [
      "Feature Importances - IHDP\n",
      "1. Feature Column: 25 (1.760401)\n",
      "2. Feature Column: 14 (0.459039)\n",
      "3. Feature Column: 5 (0.407445)\n",
      "4. Feature Column: 23 (0.177242)\n",
      "5. Feature Column: 19 (0.141710)\n",
      "6. Feature Column: 7 (0.118741)\n",
      "7. Feature Column: 3 (0.110800)\n",
      "8. Feature Column: 9 (0.101924)\n",
      "9. Feature Column: 22 (0.066579)\n",
      "10. Feature Column: 13 (0.063097)\n",
      "11. Feature Column: 11 (0.048673)\n",
      "12. Feature Column: 20 (0.046622)\n",
      "13. Feature Column: 17 (0.043350)\n",
      "14. Feature Column: 12 (0.032215)\n",
      "15. Feature Column: 21 (0.027382)\n",
      "16. Feature Column: 2 (0.008747)\n",
      "17. Feature Column: 24 (0.000000)\n",
      "18. Feature Column: 10 (0.000000)\n",
      "19. Feature Column: 15 (0.000000)\n",
      "20. Feature Column: 8 (0.000000)\n",
      "21. Feature Column: 16 (0.000000)\n",
      "22. Feature Column: 6 (0.000000)\n",
      "23. Feature Column: 18 (0.000000)\n",
      "24. Feature Column: 4 (0.000000)\n",
      "25. Feature Column: 1 (0.000000)\n",
      "26. Feature Column: 0 (0.000000)\n",
      "\n",
      "Feature Importances - Jobs\n",
      "1. Feature Column: 8 (0.496983)\n",
      "2. Feature Column: 7 (0.156823)\n",
      "3. Feature Column: 16 (0.134872)\n",
      "4. Feature Column: 17 (0.058395)\n",
      "5. Feature Column: 6 (0.055442)\n",
      "6. Feature Column: 3 (0.051712)\n",
      "7. Feature Column: 10 (0.026582)\n",
      "8. Feature Column: 2 (0.014205)\n",
      "9. Feature Column: 4 (0.007310)\n",
      "10. Feature Column: 11 (-0.006009)\n",
      "11. Feature Column: 5 (-0.006770)\n",
      "12. Feature Column: 1 (-0.024295)\n",
      "13. Feature Column: 15 (-0.062146)\n",
      "14. Feature Column: 12 (-0.069901)\n",
      "15. Feature Column: 14 (-0.151532)\n",
      "16. Feature Column: 13 (-0.155559)\n",
      "17. Feature Column: 9 (-0.267712)\n",
      "18. Feature Column: 0 (-0.284215)\n"
     ]
    }
   ],
   "source": [
    "LR_IHDP_Optimized.fit(Concatenated_XT_train_IHDP, IHDP_yf_train_Standardized.flatten())\n",
    "features_IHDP = list(Concatenated_XT_train_IHDP)\n",
    "importances_IHDP = LR_IHDP_Optimized.coef_\n",
    "indices_IHDP = np.argsort(importances_IHDP)[::-1]\n",
    "print(\"Feature Importances - IHDP\")\n",
    "for f in range(Concatenated_XT_train_IHDP.shape[1]):\n",
    "    print(\"%d. %s (%f)\" % (f + 1, \"Feature Column: \"+ str(indices_IHDP[f]), importances_IHDP[indices_IHDP[f]]))\n",
    "    \n",
    "    \n",
    "LR_Jobs_Optimized.fit(Concatenated_XT_train_Jobs, Jobs_y_train.flatten())\n",
    "features_Jobs = list(Concatenated_XT_train_Jobs)\n",
    "importances_Jobs = LR_Jobs_Optimized.coef_\n",
    "indices_Jobs = np.argsort(importances_Jobs)[::-1]\n",
    "print(\"\")\n",
    "print(\"Feature Importances - Jobs\")\n",
    "for f in range(Concatenated_XT_train_Jobs.shape[1]):\n",
    "    print(\"%d. %s (%f)\" % (f + 1, \"Feature Column: \"+ str(indices_Jobs[f]), importances_Jobs[indices_Jobs[f]]))"
   ]
  },
  {
   "cell_type": "code",
   "execution_count": 136,
   "id": "50ec8bd0",
   "metadata": {},
   "outputs": [
    {
     "data": {
      "image/png": "[encoded data removed]",
      "text/plain": [
       "<Figure size 1152x288 with 2 Axes>"
      ]
     },
     "metadata": {
      "needs_background": "light"
     },
     "output_type": "display_data"
    }
   ],
   "source": [
    "fig, axs = plt.subplots(1, 2, figsize=(16, 4))\n",
    "axs[0].bar(range(Concatenated_XT_train_IHDP.shape[1]), importances_IHDP[indices_IHDP], color=\"r\", align=\"center\")\n",
    "axs[0].set_xticks(range(Concatenated_XT_train_IHDP.shape[1]), indices_IHDP)\n",
    "axs[0].set_xlim([-1, Concatenated_XT_train_IHDP.shape[1]])\n",
    "axs[0].set_ylim([0, None])\n",
    "axs[0].set_title(\"Feature Importances - IHDP\", fontsize=12, fontweight=\"bold\")\n",
    "axs[1].bar(range(Concatenated_XT_train_Jobs.shape[1]), importances_Jobs[indices_Jobs], color=\"r\", align=\"center\")\n",
    "axs[1].set_xticks(range(Concatenated_XT_train_Jobs.shape[1]), indices_Jobs)\n",
    "axs[1].set_xlim([-1, Concatenated_XT_train_Jobs.shape[1]])\n",
    "axs[1].set_ylim([0, None])\n",
    "axs[1].set_title(\"Feature Importances - Jobs\", fontsize=12, fontweight=\"bold\")\n",
    "plt.show()"
   ]
  },
  {
   "cell_type": "markdown",
   "id": "8887e267",
   "metadata": {},
   "source": [
    "IHDP - Similarly to the random forest regressor, our feature importances follow an extemely similar pattern with the results being extremely skewed and our most important features being, our treatment column, background feature 14, and background feature 5.\n",
    "\n",
    "Jobs - The skewness of the feature importances has completely changes after using linear regressions, we now have unbalanced importances, with our previously most importance features being much further down the list, we seemingly have increased importance in regards to the treatment feature however"
   ]
  },
  {
   "cell_type": "markdown",
   "id": "5438497e",
   "metadata": {},
   "source": [
    "## Propensity Score Re-weighting"
   ]
  },
  {
   "cell_type": "markdown",
   "id": "4dc5ec85",
   "metadata": {},
   "source": [
    "For this section we are going to use a random forest classifier. First we need to train a classifer to predict propensity scores based on background features. We also need a function that calculates sample weights based on these propensity scores."
   ]
  },
  {
   "cell_type": "markdown",
   "id": "e7ba5651",
   "metadata": {},
   "source": [
    "Let's train our classifier to predic propensity scores and then define each of the variables of the IPSW equation: ti, e(x) Note: e(x) can also be referred to as P(ti|xi)"
   ]
  },
  {
   "cell_type": "code",
   "execution_count": 137,
   "id": "5f8d54cf",
   "metadata": {},
   "outputs": [],
   "source": [
    "Simple_Classifier_IHDP = RandomForestClassifier()\n",
    "Simple_Classifier_Jobs = RandomForestClassifier()\n",
    "\n",
    "# These will act as our ti values \n",
    "ti_IHDP = np.squeeze(IHDP_t_train)\n",
    "ti_Jobs= np.squeeze(Jobs_t_train)\n",
    "\n",
    "# Classifiers trained to predict propensity scores\n",
    "Simple_Classifier_IHDP.fit(IHDP_x_train, ti_IHDP)\n",
    "Simple_Classifier_Jobs.fit(Jobs_x_train, ti_Jobs)\n",
    "\n",
    "# These will act as our ptx values\n",
    "ex_IHDP = Simple_Classifier_IHDP.predict_proba(IHDP_x_train).T[1].T + 0.0001\n",
    "ex_Jobs = Simple_Classifier_Jobs.predict_proba(Jobs_x_train).T[1].T + 0.0001"
   ]
  },
  {
   "cell_type": "markdown",
   "id": "307cc0df",
   "metadata": {},
   "source": [
    "Given the equation: \n",
    "    \n",
    "$$w_i = \\frac{t_i}{e(x_i)} + \\frac{1-t_i}{1-e(x_i)}$$\n",
    "\n",
    "Our function is defined as follows"
   ]
  },
  {
   "cell_type": "code",
   "execution_count": 138,
   "id": "f3a98450",
   "metadata": {},
   "outputs": [],
   "source": [
    "def Calc_Weights(ti, ex):\n",
    "    wi = (ti / ex) + ((1-ti) / (1-ex))\n",
    "    return wi\n",
    "\n",
    "Sample_Weights_IHDP = Calc_Weights(ti_IHDP, ex_IHDP)\n",
    "Sample_Weights_Jobs = Calc_Weights(ti_Jobs, ex_Jobs)"
   ]
  },
  {
   "cell_type": "markdown",
   "id": "e8572eed",
   "metadata": {},
   "source": [
    "Now that we have our sample weights, we can train our regressors using the weights"
   ]
  },
  {
   "cell_type": "code",
   "execution_count": 139,
   "id": "113e3e4d",
   "metadata": {},
   "outputs": [
    {
     "data": {
      "text/plain": [
       "LinearRegression()"
      ]
     },
     "execution_count": 139,
     "metadata": {},
     "output_type": "execute_result"
    }
   ],
   "source": [
    "# Training variables for random forest \n",
    "Concatenated_XT_train_IHDP = np.concatenate([IHDP_x_train, IHDP_t_train], axis=1)\n",
    "Concatenated_XT_train_Jobs = np.concatenate([Jobs_x_train, Jobs_t_train], axis=1)\n",
    "\n",
    "# Training variables for linear regression \n",
    "Concatenated_XT_train_IHDP_Standardized = np.concatenate([IHDP_x_train_Standardized, IHDP_t_train], axis=1)\n",
    "Concatenated_XT_train_Jobs_Standardized = np.concatenate([Jobs_x_train_Standardized, Jobs_t_train], axis=1)\n",
    "\n",
    "RandomForest_IHDP_IPSW = RandomForestRegressor()\n",
    "RandomForest_Jobs_IPSW = RandomForestRegressor()\n",
    "LinearRegressor_IHDP_IPSW = LinearRegression()\n",
    "LinearRegressor_Jobs_IPSW = LinearRegression()\n",
    "\n",
    "# Trained regressors\n",
    "RandomForest_IHDP_IPSW.fit(Concatenated_XT_train_IHDP, IHDP_yf_train.flatten(), sample_weight=Sample_Weights_IHDP)\n",
    "RandomForest_Jobs_IPSW.fit(Concatenated_XT_train_Jobs, Jobs_y_train.flatten(), sample_weight=Sample_Weights_Jobs)\n",
    "LinearRegressor_IHDP_IPSW.fit(Concatenated_XT_train_IHDP, IHDP_yf_train.flatten(), sample_weight=Sample_Weights_IHDP)\n",
    "LinearRegressor_Jobs_IPSW.fit(Concatenated_XT_train_Jobs, Jobs_y_train.flatten(), sample_weight=Sample_Weights_Jobs)"
   ]
  },
  {
   "cell_type": "markdown",
   "id": "e1e71e5e",
   "metadata": {},
   "source": [
    "Now we repeat the same steps from the previous tasks; finding optimal hyperparameters and modelling our feature importances."
   ]
  },
  {
   "cell_type": "markdown",
   "id": "84e0fa5e",
   "metadata": {},
   "source": [
    "### Random Search - IHDP "
   ]
  },
  {
   "cell_type": "code",
   "execution_count": 140,
   "id": "e0d8badb",
   "metadata": {},
   "outputs": [
    {
     "name": "stdout",
     "output_type": "stream",
     "text": [
      "Fitting 10 folds for each of 100 candidates, totalling 1000 fits\n"
     ]
    },
    {
     "data": {
      "text/plain": [
       "{'n_estimators': 1200,\n",
       " 'min_samples_split': 5,\n",
       " 'min_samples_leaf': 2,\n",
       " 'max_features': 'auto',\n",
       " 'max_depth': 10,\n",
       " 'bootstrap': True}"
      ]
     },
     "execution_count": 140,
     "metadata": {},
     "output_type": "execute_result"
    }
   ],
   "source": [
    "random_grid = {'bootstrap': [True, False],\n",
    " 'max_depth': [10, 20, 30, 40, 50, 60, 70, 80, 90, 100, None],\n",
    " 'max_features': ['auto', 'sqrt'],\n",
    " 'min_samples_leaf': [1, 2, 4],\n",
    " 'min_samples_split': [2, 5, 10],\n",
    " 'n_estimators': [200, 400, 600, 800, 1000, 1200, 1400, 1600, 1800, 2000]}\n",
    "\n",
    "# Random search of parameters, using 3 fold cross validation, \n",
    "# search across 100 different combinations, and use all available cores\n",
    "RandomForest_random_IHDP_IPSW = RandomizedSearchCV(estimator = RandomForest_IHDP_IPSW, param_distributions = random_grid, n_iter = 100, cv = 10, verbose=2, n_jobs = -1)\n",
    "# Fit the random search model\n",
    "RandomForest_random_IHDP_IPSW.fit(Concatenated_XT_train_IHDP, IHDP_yf_train.flatten(), sample_weight=Sample_Weights_IHDP )\n",
    "RandomForest_random_IHDP_IPSW.best_params_"
   ]
  },
  {
   "cell_type": "markdown",
   "id": "85e678c1",
   "metadata": {},
   "source": [
    "### Random Search - Jobs"
   ]
  },
  {
   "cell_type": "code",
   "execution_count": 141,
   "id": "db3ae91f",
   "metadata": {},
   "outputs": [
    {
     "name": "stdout",
     "output_type": "stream",
     "text": [
      "Fitting 10 folds for each of 100 candidates, totalling 1000 fits\n"
     ]
    },
    {
     "data": {
      "text/plain": [
       "{'n_estimators': 1400,\n",
       " 'min_samples_split': 2,\n",
       " 'min_samples_leaf': 2,\n",
       " 'max_features': 'sqrt',\n",
       " 'max_depth': 10,\n",
       " 'bootstrap': True}"
      ]
     },
     "execution_count": 141,
     "metadata": {},
     "output_type": "execute_result"
    }
   ],
   "source": [
    "random_grid = {'bootstrap': [True, False],\n",
    " 'max_depth': [10, 20, 30, 40, 50, 60, 70, 80, 90, 100, None],\n",
    " 'max_features': ['auto', 'sqrt'],\n",
    " 'min_samples_leaf': [1, 2, 4],\n",
    " 'min_samples_split': [2, 5, 10],\n",
    " 'n_estimators': [200, 400, 600, 800, 1000, 1200, 1400, 1600, 1800, 2000]}\n",
    "\n",
    "\n",
    "# Random search of parameters, using 3 fold cross validation, \n",
    "# search across 100 different combinations, and use all available cores\n",
    "RandomForest_random_Jobs_IPSW = RandomizedSearchCV(estimator = RandomForest_Jobs_IPSW, param_distributions = random_grid, n_iter = 100, cv = 10, verbose=2, n_jobs = -1)\n",
    "# Fit the random search model\n",
    "RandomForest_random_Jobs_IPSW.fit(Concatenated_XT_train_Jobs, Jobs_y_train.flatten(), sample_weight=Sample_Weights_Jobs)\n",
    "RandomForest_random_Jobs_IPSW.best_params_"
   ]
  },
  {
   "cell_type": "markdown",
   "id": "0294a3d3",
   "metadata": {},
   "source": [
    "  ### Grid Search - IHDP (Random Forest)"
   ]
  },
  {
   "cell_type": "code",
   "execution_count": 142,
   "id": "b7c1d14e",
   "metadata": {},
   "outputs": [
    {
     "name": "stdout",
     "output_type": "stream",
     "text": [
      "Fitting 10 folds for each of 162 candidates, totalling 1620 fits\n"
     ]
    },
    {
     "data": {
      "text/plain": [
       "{'bootstrap': True,\n",
       " 'max_depth': 8,\n",
       " 'max_features': 'auto',\n",
       " 'min_samples_leaf': 2,\n",
       " 'min_samples_split': 5,\n",
       " 'n_estimators': 1000}"
      ]
     },
     "execution_count": 142,
     "metadata": {},
     "output_type": "execute_result"
    }
   ],
   "source": [
    "# Our parameter Grid uses values centered around the parameters found from the random search\n",
    "param_grid = {\n",
    "    'bootstrap': [True],\n",
    "    'max_depth': [8, 10, 12],\n",
    "    'max_features': ['auto', 'sqrt'],\n",
    "    'min_samples_leaf': [2,3,4],\n",
    "    'min_samples_split': [4, 5, 6],\n",
    "    'n_estimators': [1000, 1200, 1400]\n",
    "}\n",
    "\n",
    "GridSearch_RF_IHDP_IPSW = GridSearchCV(estimator = RandomForest_IHDP_IPSW, param_grid = param_grid, cv = 10, n_jobs = -1, verbose = 2)\n",
    "GridSearch_RF_IHDP_IPSW.fit(Concatenated_XT_train_IHDP, IHDP_yf_train.flatten(), sample_weight=Sample_Weights_IHDP)\n",
    "GridSearch_RF_IHDP_IPSW.best_params_"
   ]
  },
  {
   "cell_type": "markdown",
   "id": "c18d55c5",
   "metadata": {},
   "source": [
    "### Grid Search - Jobs (Random Forest)"
   ]
  },
  {
   "cell_type": "code",
   "execution_count": 144,
   "id": "b1aa1d00",
   "metadata": {},
   "outputs": [
    {
     "name": "stdout",
     "output_type": "stream",
     "text": [
      "Fitting 10 folds for each of 162 candidates, totalling 1620 fits\n"
     ]
    },
    {
     "data": {
      "text/plain": [
       "{'bootstrap': True,\n",
       " 'max_depth': 8,\n",
       " 'max_features': 'sqrt',\n",
       " 'min_samples_leaf': 2,\n",
       " 'min_samples_split': 2,\n",
       " 'n_estimators': 1600}"
      ]
     },
     "execution_count": 144,
     "metadata": {},
     "output_type": "execute_result"
    }
   ],
   "source": [
    "# Our parameter Grid uses values centered around the parameters found from the random search\n",
    "param_grid = {\n",
    "    'bootstrap': [True],\n",
    "    'max_depth': [8, 10, 12],\n",
    "    'max_features': ['auto', 'sqrt'],\n",
    "    'min_samples_leaf': [2, 3, 4],\n",
    "    'min_samples_split': [2, 4, 6],\n",
    "    'n_estimators': [1200, 1400, 1600]\n",
    "}\n",
    "\n",
    "GridSearch_RF_Jobs_IPSW = GridSearchCV(estimator = RandomForest_Jobs_IPSW, param_grid = param_grid, cv = 10, n_jobs = -1, verbose = 2)\n",
    "GridSearch_RF_Jobs_IPSW.fit(Concatenated_XT_train_Jobs, Jobs_y_train.flatten(), sample_weight=Sample_Weights_Jobs)\n",
    "GridSearch_RF_Jobs_IPSW.best_params_"
   ]
  },
  {
   "cell_type": "markdown",
   "id": "434233df",
   "metadata": {},
   "source": [
    "### Grid Search - IHDP (Linear Regression)"
   ]
  },
  {
   "cell_type": "code",
   "execution_count": 145,
   "id": "9169090d",
   "metadata": {},
   "outputs": [
    {
     "name": "stdout",
     "output_type": "stream",
     "text": [
      "Fitting 10 folds for each of 4 candidates, totalling 40 fits\n"
     ]
    },
    {
     "data": {
      "text/plain": [
       "{'fit_intercept': True, 'positive': True}"
      ]
     },
     "execution_count": 145,
     "metadata": {},
     "output_type": "execute_result"
    }
   ],
   "source": [
    "param_grid = {'fit_intercept': [True, False],\n",
    " 'positive': [True, False]} \n",
    "LinearRegressor_Grid_IHDP_IPSW = GridSearchCV(estimator = LinearRegressor_IHDP_IPSW, param_grid=param_grid, cv = 10, verbose=2, n_jobs = -1)\n",
    "LinearRegressor_Grid_IHDP_IPSW.fit(Concatenated_XT_train_IHDP_Standardized, IHDP_yf_train_Standardized.flatten(), sample_weight=Sample_Weights_IHDP)\n",
    "LinearRegressor_Grid_IHDP_IPSW.best_params_"
   ]
  },
  {
   "cell_type": "markdown",
   "id": "ab23b355",
   "metadata": {},
   "source": [
    "### Grid Search - Jobs (Linear Regression)"
   ]
  },
  {
   "cell_type": "code",
   "execution_count": 146,
   "id": "4176143f",
   "metadata": {},
   "outputs": [
    {
     "name": "stdout",
     "output_type": "stream",
     "text": [
      "Fitting 10 folds for each of 4 candidates, totalling 40 fits\n"
     ]
    },
    {
     "data": {
      "text/plain": [
       "{'fit_intercept': True, 'positive': False}"
      ]
     },
     "execution_count": 146,
     "metadata": {},
     "output_type": "execute_result"
    }
   ],
   "source": [
    "LinearRegressor_Jobs = LinearRegression()\n",
    "param_grid = {'fit_intercept': [True, False],\n",
    " 'positive': [True, False]} \n",
    "LinearRegressor_Grid_Jobs = GridSearchCV(estimator = LinearRegressor_Jobs_IPSW, param_grid=param_grid, cv = 10, verbose=2, n_jobs = -1)\n",
    "LinearRegressor_Grid_Jobs.fit(Concatenated_XT_train_Jobs_Standardized, Jobs_y_train.flatten(), sample_weight=Sample_Weights_Jobs)\n",
    "LinearRegressor_Grid_Jobs.best_params_ "
   ]
  },
  {
   "cell_type": "markdown",
   "id": "ef30e2e9",
   "metadata": {},
   "source": [
    "### Metric Evaluation"
   ]
  },
  {
   "cell_type": "code",
   "execution_count": 148,
   "id": "883c304e",
   "metadata": {},
   "outputs": [
    {
     "data": {
      "text/plain": [
       "LinearRegression()"
      ]
     },
     "execution_count": 148,
     "metadata": {},
     "output_type": "execute_result"
    }
   ],
   "source": [
    "# Lets define all our optimized IPSW models together }\n",
    "RF_IPSW_IHDP = RandomForestRegressor(bootstrap=True, max_depth=8, max_features='auto', min_samples_leaf=2, min_samples_split=5, n_estimators=1000)\n",
    "RF_IPSW_IHDP.fit(Concatenated_XT_train_IHDP, IHDP_yf_train.flatten(), sample_weight=Sample_Weights_IHDP)\n",
    "\n",
    "RF_IPSW_Jobs = RandomForestRegressor(bootstrap=True, max_depth=8, max_features='sqrt', min_samples_leaf=2, min_samples_split=2, n_estimators=1600)\n",
    "RF_IPSW_Jobs.fit(Concatenated_XT_train_Jobs, Jobs_y_train.flatten(), sample_weight=Sample_Weights_Jobs)\n",
    "\n",
    "LR_IPSW_IHDP = LinearRegression(fit_intercept=True, positive=True)\n",
    "LR_IPSW_IHDP.fit(Concatenated_XT_train_IHDP_Standardized, IHDP_yf_train_Standardized.flatten(), sample_weight=Sample_Weights_IHDP)\n",
    "\n",
    "LR_IPSW_Jobs = LinearRegression(fit_intercept=True, positive=False)\n",
    "LR_IPSW_Jobs.fit(Concatenated_XT_train_Jobs_Standardized, Jobs_y_train.flatten(), sample_weight=Sample_Weights_Jobs) "
   ]
  },
  {
   "cell_type": "code",
   "execution_count": 149,
   "id": "f64473ba",
   "metadata": {},
   "outputs": [],
   "source": [
    "# t=0 - IHDP\n",
    "Concatenated_XT_zeros_IHDP = np.concatenate([IHDP_x_test, np.zeros_like(IHDP_t_test)], axis=1)\n",
    "Y0_IHDP_IPSW_RF = RF_IPSW_IHDP.predict(Concatenated_XT_zeros_IHDP)\n",
    "# t=1 - IHDP\n",
    "Concatenated_XT_ones_IHDP = np.concatenate([IHDP_x_test, np.ones_like(IHDP_t_test)], axis=1)\n",
    "Y1_IHDP_IPSW_RF = RF_IPSW_IHDP.predict(Concatenated_XT_ones_IHDP)\n",
    "\n",
    "# t=0 - Jobs\n",
    "Concatenated_XT_zeros_Jobs = np.concatenate([Jobs_x_test, np.zeros_like(Jobs_t_test)], axis=1)\n",
    "Y0_Jobs_IPSW_RF = RF_IPSW_Jobs.predict(Concatenated_XT_zeros_Jobs)\n",
    "# t=1 - Jobs\n",
    "Concatenated_XT_ones_Jobs = np.concatenate([Jobs_x_test, np.ones_like(Jobs_t_test)], axis=1)\n",
    "Y1_Jobs_IPSW_RF = RF_IPSW_Jobs.predict(Concatenated_XT_ones_Jobs)\n",
    "\n",
    "\n",
    "# t=0 - IHDP\n",
    "Concatenated_XT_zeros_IHDP = np.concatenate([IHDP_x_test_Standardized, np.zeros_like(IHDP_t_test)], axis=1)\n",
    "Y0_IHDP_IPSW_LR = LR_IPSW_IHDP.predict(Concatenated_XT_zeros_IHDP)\n",
    "# t=1 - IHDP\n",
    "Concatenated_XT_ones_IHDP = np.concatenate([IHDP_x_test_Standardized, np.ones_like(IHDP_t_test)], axis=1)\n",
    "Y1_IHDP_IPSW_LR = LR_IPSW_IHDP.predict(Concatenated_XT_ones_IHDP)\n",
    "\n",
    "\n",
    "# t=0 - Jobs\n",
    "Concatenated_XT_zeros_Jobs = np.concatenate([Jobs_x_test_Standardized, np.zeros_like(Jobs_t_test)], axis=1)\n",
    "Y0_Jobs_IPSW_LR = LR_IPSW_Jobs.predict(Concatenated_XT_zeros_Jobs)\n",
    "# t=1 - Jobs\n",
    "Concatenated_XT_ones_Jobs = np.concatenate([Jobs_x_test_Standardized, np.ones_like(Jobs_t_test)], axis=1)\n",
    "Y1_Jobs_IPSW_LR = LR_IPSW_Jobs.predict(Concatenated_XT_ones_Jobs)"
   ]
  },
  {
   "cell_type": "code",
   "execution_count": 150,
   "id": "4986e570",
   "metadata": {},
   "outputs": [],
   "source": [
    "#ITEs for Random Forest Model IHDP IPSW\n",
    "Effect_Estimates_IHDP_RF_IPSW = Y1_IHDP_IPSW_RF - Y0_IHDP_IPSW_RF\n",
    "#ITEs for Random Forest Model Jobs IPSW\n",
    "Effect_Estimates_Jobs_RF_IPSW = Y1_Jobs_IPSW_RF - Y0_Jobs_IPSW_RF\n",
    "\n",
    "#ITEs for Linear Regression Model IHDP IPSW\n",
    "Effect_Estimates_IHDP_LR_IPSW = Y1_IHDP_IPSW_LR - Y0_IHDP_IPSW_LR\n",
    "#ITEs for Linear Regression Jobs Jobs IPSW\n",
    "Effect_Estimates_Jobs_LR_IPSW = Y1_Jobs_IPSW_LR - Y0_Jobs_IPSW_LR"
   ]
  },
  {
   "cell_type": "code",
   "execution_count": 151,
   "id": "5dc9c0cf",
   "metadata": {},
   "outputs": [],
   "source": [
    "# Metric calculations for random forest IPSW\n",
    "ATE_IHDP_RF_IPSW = abs_ate(IHDP_ite_test, Effect_Estimates_IHDP_RF_IPSW)\n",
    "PEHE_IHDP_RF_IPSW = pehe(IHDP_ite_test, Effect_Estimates_IHDP_RF_IPSW)\n",
    "ATT_Jobs_RF_IPSW = abs_att(Effect_Estimates_Jobs_RF_IPSW, Jobs_y_test.flatten(), Jobs_t_test.flatten(), Jobs_e_test.flatten())\n",
    "Rpol_RF_IPSW = policy_risk(Effect_Estimates_Jobs_RF_IPSW, Jobs_y_test.flatten(), Jobs_t_test.flatten(), Jobs_e_test.flatten())"
   ]
  },
  {
   "cell_type": "code",
   "execution_count": 152,
   "id": "b6670128",
   "metadata": {},
   "outputs": [],
   "source": [
    "# Metric calculations for linear regression IPSW\n",
    "ATE_IHDP_LR_IPSW = abs_ate(IHDP_ite_test, Effect_Estimates_IHDP_LR_IPSW)\n",
    "PEHE_IHDP_LR_IPSW = pehe(IHDP_ite_test, Effect_Estimates_IHDP_LR_IPSW)\n",
    "ATT_Jobs_LR_IPSW = abs_att(Effect_Estimates_Jobs_LR_IPSW, Jobs_y_test.flatten(), Jobs_t_test.flatten(), Jobs_e_test.flatten())\n",
    "Rpol_LR_IPSW= policy_risk(Effect_Estimates_Jobs_LR_IPSW, Jobs_y_test.flatten(), Jobs_t_test.flatten(), Jobs_e_test.flatten())"
   ]
  },
  {
   "cell_type": "code",
   "execution_count": 153,
   "id": "ddcafe4e",
   "metadata": {},
   "outputs": [
    {
     "data": {
      "text/html": [
       "<div>\n",
       "<style scoped>\n",
       "    .dataframe tbody tr th:only-of-type {\n",
       "        vertical-align: middle;\n",
       "    }\n",
       "\n",
       "    .dataframe tbody tr th {\n",
       "        vertical-align: top;\n",
       "    }\n",
       "\n",
       "    .dataframe thead th {\n",
       "        text-align: right;\n",
       "    }\n",
       "</style>\n",
       "<table border=\"1\" class=\"dataframe\">\n",
       "  <thead>\n",
       "    <tr style=\"text-align: right;\">\n",
       "      <th></th>\n",
       "      <th>Method</th>\n",
       "      <th>ATE test</th>\n",
       "      <th>PEHE test</th>\n",
       "    </tr>\n",
       "  </thead>\n",
       "  <tbody>\n",
       "    <tr>\n",
       "      <th>0</th>\n",
       "      <td>RF</td>\n",
       "      <td>1.305712</td>\n",
       "      <td>0.116149</td>\n",
       "    </tr>\n",
       "    <tr>\n",
       "      <th>1</th>\n",
       "      <td>Optimized RF</td>\n",
       "      <td>1.254617</td>\n",
       "      <td>0.137322</td>\n",
       "    </tr>\n",
       "    <tr>\n",
       "      <th>2</th>\n",
       "      <td>LR</td>\n",
       "      <td>2.401287</td>\n",
       "      <td>2.263552</td>\n",
       "    </tr>\n",
       "    <tr>\n",
       "      <th>3</th>\n",
       "      <td>Optimized LR</td>\n",
       "      <td>2.410418</td>\n",
       "      <td>2.273235</td>\n",
       "    </tr>\n",
       "    <tr>\n",
       "      <th>4</th>\n",
       "      <td>IPSW RF</td>\n",
       "      <td>1.234133</td>\n",
       "      <td>0.119537</td>\n",
       "    </tr>\n",
       "    <tr>\n",
       "      <th>5</th>\n",
       "      <td>IPSW LR</td>\n",
       "      <td>2.406824</td>\n",
       "      <td>2.269425</td>\n",
       "    </tr>\n",
       "  </tbody>\n",
       "</table>\n",
       "</div>"
      ],
      "text/plain": [
       "         Method  ATE test  PEHE test\n",
       "0            RF  1.305712   0.116149\n",
       "1  Optimized RF  1.254617   0.137322\n",
       "2            LR  2.401287   2.263552\n",
       "3  Optimized LR  2.410418   2.273235\n",
       "4       IPSW RF  1.234133   0.119537\n",
       "5       IPSW LR  2.406824   2.269425"
      ]
     },
     "execution_count": 153,
     "metadata": {},
     "output_type": "execute_result"
    }
   ],
   "source": [
    "# Metrics for IHDP dataset\n",
    "results = []\n",
    "results.append(['RF', ATE_IHDP, PEHE_IHDP])\n",
    "results.append(['Optimized RF', ATE_IHDP_Optimized, PEHE_IHDP_Optimized])\n",
    "results.append(['LR', ATE_IHDP_LR, PEHE_IHDP_LR])\n",
    "results.append(['Optimized LR', ATE_IHDP_LR_Optimized, PEHE_IHDP_LR_Optimized])\n",
    "results.append(['IPSW RF', ATE_IHDP_RF_IPSW, PEHE_IHDP_RF_IPSW])\n",
    "results.append(['IPSW LR',ATE_IHDP_LR_IPSW,PEHE_IHDP_LR_IPSW])\n",
    "cols = ['Method', 'ATE test', 'PEHE test']\n",
    "df_First = pd.DataFrame(results, columns=cols)\n",
    "df_First"
   ]
  },
  {
   "cell_type": "code",
   "execution_count": 154,
   "id": "c4777f1f",
   "metadata": {},
   "outputs": [
    {
     "data": {
      "text/html": [
       "<div>\n",
       "<style scoped>\n",
       "    .dataframe tbody tr th:only-of-type {\n",
       "        vertical-align: middle;\n",
       "    }\n",
       "\n",
       "    .dataframe tbody tr th {\n",
       "        vertical-align: top;\n",
       "    }\n",
       "\n",
       "    .dataframe thead th {\n",
       "        text-align: right;\n",
       "    }\n",
       "</style>\n",
       "<table border=\"1\" class=\"dataframe\">\n",
       "  <thead>\n",
       "    <tr style=\"text-align: right;\">\n",
       "      <th></th>\n",
       "      <th>Method</th>\n",
       "      <th>ATT test</th>\n",
       "      <th>Risk Policy</th>\n",
       "    </tr>\n",
       "  </thead>\n",
       "  <tbody>\n",
       "    <tr>\n",
       "      <th>0</th>\n",
       "      <td>RF</td>\n",
       "      <td>0.063641</td>\n",
       "      <td>0.202295</td>\n",
       "    </tr>\n",
       "    <tr>\n",
       "      <th>1</th>\n",
       "      <td>Optimized RF</td>\n",
       "      <td>0.033940</td>\n",
       "      <td>0.217834</td>\n",
       "    </tr>\n",
       "    <tr>\n",
       "      <th>2</th>\n",
       "      <td>LR</td>\n",
       "      <td>0.006004</td>\n",
       "      <td>0.224490</td>\n",
       "    </tr>\n",
       "    <tr>\n",
       "      <th>3</th>\n",
       "      <td>Optimized LR</td>\n",
       "      <td>0.006004</td>\n",
       "      <td>0.224490</td>\n",
       "    </tr>\n",
       "    <tr>\n",
       "      <th>4</th>\n",
       "      <td>IPSW RF</td>\n",
       "      <td>0.026082</td>\n",
       "      <td>0.250914</td>\n",
       "    </tr>\n",
       "    <tr>\n",
       "      <th>5</th>\n",
       "      <td>IPSW LR</td>\n",
       "      <td>0.009753</td>\n",
       "      <td>0.224490</td>\n",
       "    </tr>\n",
       "  </tbody>\n",
       "</table>\n",
       "</div>"
      ],
      "text/plain": [
       "         Method  ATT test  Risk Policy\n",
       "0            RF  0.063641     0.202295\n",
       "1  Optimized RF  0.033940     0.217834\n",
       "2            LR  0.006004     0.224490\n",
       "3  Optimized LR  0.006004     0.224490\n",
       "4       IPSW RF  0.026082     0.250914\n",
       "5       IPSW LR  0.009753     0.224490"
      ]
     },
     "execution_count": 154,
     "metadata": {},
     "output_type": "execute_result"
    }
   ],
   "source": [
    "# Metrics for Jobs Dataset\n",
    "results_ = []\n",
    "results_.append(['RF', ATT_Jobs, Rpol])\n",
    "results_.append(['Optimized RF', ATT_Jobs_Optimized, Rpol_Optimized])\n",
    "results_.append(['LR', ATT_Jobs_LR, Rpol_LR])\n",
    "results_.append(['Optimized LR', ATT_Jobs_LR_Optimized, Rpol_LR_Optimized])\n",
    "results_.append(['IPSW RF',ATT_Jobs_RF_IPSW,Rpol_RF_IPSW])\n",
    "results_.append(['IPSW LR',ATT_Jobs_LR_IPSW,Rpol_LR_IPSW])\n",
    "cols_ = ['Method', 'ATT test', 'Risk Policy']\n",
    "df_Second = pd.DataFrame(results_, columns=cols_)\n",
    "df_Second"
   ]
  },
  {
   "cell_type": "markdown",
   "id": "cc45e3c9",
   "metadata": {},
   "source": [
    "### Feature Importances for Random forests (IPSW)"
   ]
  },
  {
   "cell_type": "code",
   "execution_count": 155,
   "id": "46e5071f",
   "metadata": {},
   "outputs": [
    {
     "name": "stdout",
     "output_type": "stream",
     "text": [
      "Feature Importances - IHDP\n",
      "1. Feature Column: 25 (0.612118)\n",
      "2. Feature Column: 5 (0.248492)\n",
      "3. Feature Column: 14 (0.026665)\n",
      "4. Feature Column: 0 (0.023095)\n",
      "5. Feature Column: 4 (0.020168)\n",
      "6. Feature Column: 3 (0.014063)\n",
      "7. Feature Column: 1 (0.010812)\n",
      "8. Feature Column: 2 (0.009187)\n",
      "9. Feature Column: 12 (0.004532)\n",
      "10. Feature Column: 8 (0.003846)\n",
      "11. Feature Column: 6 (0.003237)\n",
      "12. Feature Column: 24 (0.002823)\n",
      "13. Feature Column: 13 (0.002676)\n",
      "14. Feature Column: 11 (0.002408)\n",
      "15. Feature Column: 16 (0.002278)\n",
      "16. Feature Column: 10 (0.002110)\n",
      "17. Feature Column: 7 (0.002079)\n",
      "18. Feature Column: 9 (0.001634)\n",
      "19. Feature Column: 18 (0.001590)\n",
      "20. Feature Column: 15 (0.001267)\n",
      "21. Feature Column: 19 (0.001074)\n",
      "22. Feature Column: 23 (0.000979)\n",
      "23. Feature Column: 20 (0.000906)\n",
      "24. Feature Column: 21 (0.000768)\n",
      "25. Feature Column: 17 (0.000733)\n",
      "26. Feature Column: 22 (0.000460)\n",
      "\n",
      "Feature Importances - Jobs\n",
      "1. Feature Column: 7 (0.147446)\n",
      "2. Feature Column: 12 (0.146227)\n",
      "3. Feature Column: 11 (0.083115)\n",
      "4. Feature Column: 6 (0.081529)\n",
      "5. Feature Column: 15 (0.078889)\n",
      "6. Feature Column: 14 (0.067464)\n",
      "7. Feature Column: 8 (0.067312)\n",
      "8. Feature Column: 9 (0.067050)\n",
      "9. Feature Column: 0 (0.066536)\n",
      "10. Feature Column: 1 (0.037563)\n",
      "11. Feature Column: 10 (0.037458)\n",
      "12. Feature Column: 17 (0.032356)\n",
      "13. Feature Column: 13 (0.029699)\n",
      "14. Feature Column: 4 (0.025318)\n",
      "15. Feature Column: 2 (0.016141)\n",
      "16. Feature Column: 5 (0.008831)\n",
      "17. Feature Column: 3 (0.004847)\n",
      "18. Feature Column: 16 (0.002219)\n"
     ]
    }
   ],
   "source": [
    "# Feature Importances for the IHDP dataset using random forest regression\n",
    "RF_IPSW_IHDP.fit(Concatenated_XT_train_IHDP, IHDP_yf_train.flatten(), sample_weight=Sample_Weights_IHDP)\n",
    "features_IHDP = list(Concatenated_XT_train_IHDP)\n",
    "importances_IHDP = RF_IPSW_IHDP.feature_importances_\n",
    "std_IHDP = np.std([tree.feature_importances_ for tree in RF_IPSW_IHDP.estimators_], axis=0)\n",
    "indices_IHDP = np.argsort(importances_IHDP)[::-1]\n",
    "print(\"Feature Importances - IHDP\")\n",
    "for f in range(Concatenated_XT_train_IHDP.shape[1]):\n",
    "    print(\"%d. %s (%f)\" % (f + 1, \"Feature Column: \"+ str(indices_IHDP[f]), importances_IHDP[indices_IHDP[f]]))\n",
    "\n",
    "# Feature Importances for the Jobs dataset using random forest regression  \n",
    "RF_IPSW_Jobs.fit(Concatenated_XT_train_Jobs, Jobs_y_train.flatten(), sample_weight=Sample_Weights_Jobs)\n",
    "features_Jobs = list(Concatenated_XT_train_Jobs)\n",
    "importances_Jobs = RF_IPSW_Jobs.feature_importances_\n",
    "std_Jobs = np.std([tree.feature_importances_ for tree in RF_IPSW_Jobs.estimators_], axis=0)\n",
    "indices_Jobs = np.argsort(importances_Jobs)[::-1]\n",
    "print(\"\")\n",
    "print(\"Feature Importances - Jobs\")\n",
    "for f in range(Concatenated_XT_train_Jobs.shape[1]):\n",
    "    print(\"%d. %s (%f)\" % (f + 1, \"Feature Column: \"+ str(indices_Jobs[f]), importances_Jobs[indices_Jobs[f]]))\n",
    "    "
   ]
  },
  {
   "cell_type": "markdown",
   "id": "3af82cab",
   "metadata": {},
   "source": [
    "### Feature Importances for Linear Regressors (IPSW)"
   ]
  },
  {
   "cell_type": "code",
   "execution_count": 156,
   "id": "a2c5ef0c",
   "metadata": {},
   "outputs": [
    {
     "name": "stdout",
     "output_type": "stream",
     "text": [
      "Feature Importances - IHDP\n",
      "1. Feature Column: 25 (1.764212)\n",
      "2. Feature Column: 14 (0.458017)\n",
      "3. Feature Column: 5 (0.395933)\n",
      "4. Feature Column: 23 (0.166302)\n",
      "5. Feature Column: 19 (0.143776)\n",
      "6. Feature Column: 7 (0.124037)\n",
      "7. Feature Column: 3 (0.106522)\n",
      "8. Feature Column: 9 (0.090934)\n",
      "9. Feature Column: 13 (0.061298)\n",
      "10. Feature Column: 22 (0.061065)\n",
      "11. Feature Column: 20 (0.052176)\n",
      "12. Feature Column: 11 (0.050012)\n",
      "13. Feature Column: 17 (0.042776)\n",
      "14. Feature Column: 12 (0.028234)\n",
      "15. Feature Column: 21 (0.027032)\n",
      "16. Feature Column: 2 (0.008817)\n",
      "17. Feature Column: 18 (0.003956)\n",
      "18. Feature Column: 24 (0.000000)\n",
      "19. Feature Column: 10 (0.000000)\n",
      "20. Feature Column: 15 (0.000000)\n",
      "21. Feature Column: 8 (0.000000)\n",
      "22. Feature Column: 16 (0.000000)\n",
      "23. Feature Column: 6 (0.000000)\n",
      "24. Feature Column: 4 (0.000000)\n",
      "25. Feature Column: 1 (0.000000)\n",
      "26. Feature Column: 0 (0.000000)\n",
      "\n",
      "Feature Importances - Jobs\n",
      "1. Feature Column: 8 (0.574167)\n",
      "2. Feature Column: 7 (0.161432)\n",
      "3. Feature Column: 16 (0.134150)\n",
      "4. Feature Column: 6 (0.061460)\n",
      "5. Feature Column: 17 (0.054646)\n",
      "6. Feature Column: 3 (0.049026)\n",
      "7. Feature Column: 10 (0.031643)\n",
      "8. Feature Column: 2 (0.010868)\n",
      "9. Feature Column: 4 (0.006840)\n",
      "10. Feature Column: 5 (-0.006038)\n",
      "11. Feature Column: 11 (-0.008110)\n",
      "12. Feature Column: 1 (-0.031334)\n",
      "13. Feature Column: 15 (-0.062797)\n",
      "14. Feature Column: 12 (-0.072613)\n",
      "15. Feature Column: 13 (-0.129609)\n",
      "16. Feature Column: 14 (-0.133540)\n",
      "17. Feature Column: 9 (-0.311319)\n",
      "18. Feature Column: 0 (-0.322346)\n"
     ]
    }
   ],
   "source": [
    "LR_IPSW_IHDP.fit(Concatenated_XT_train_IHDP_Standardized, IHDP_yf_train_Standardized.flatten(),  sample_weight=Sample_Weights_IHDP)\n",
    "features_IHDP_LR = list(Concatenated_XT_train_IHDP)\n",
    "importances_IHDP_LR = LR_IPSW_IHDP.coef_\n",
    "indices_IHDP_LR = np.argsort(importances_IHDP_LR)[::-1]\n",
    "print(\"Feature Importances - IHDP\")\n",
    "for f in range(Concatenated_XT_train_IHDP.shape[1]):\n",
    "    print(\"%d. %s (%f)\" % (f + 1, \"Feature Column: \"+ str(indices_IHDP_LR[f]), importances_IHDP_LR[indices_IHDP_LR[f]]))\n",
    "    \n",
    "    \n",
    "LR_IPSW_Jobs.fit(Concatenated_XT_train_Jobs_Standardized, Jobs_y_train.flatten(), sample_weight=Sample_Weights_Jobs)\n",
    "features_Jobs_LR = list(Concatenated_XT_train_Jobs)\n",
    "importances_Jobs_LR = LR_IPSW_Jobs.coef_\n",
    "indices_Jobs_LR = np.argsort(importances_Jobs_LR)[::-1]\n",
    "print(\"\")\n",
    "print(\"Feature Importances - Jobs\")\n",
    "for f in range(Concatenated_XT_train_Jobs.shape[1]):\n",
    "    print(\"%d. %s (%f)\" % (f + 1, \"Feature Column: \"+ str(indices_Jobs_LR[f]), importances_Jobs_LR[indices_Jobs_LR[f]]))"
   ]
  },
  {
   "cell_type": "markdown",
   "id": "1c4644bb",
   "metadata": {},
   "source": [
    "### Visual Feature Importances (All regressors)"
   ]
  },
  {
   "cell_type": "code",
   "execution_count": 157,
   "id": "27bc8829",
   "metadata": {},
   "outputs": [
    {
     "data": {
      "image/png": "[encoded data removed]",
      "text/plain": [
       "<Figure size 2304x576 with 4 Axes>"
      ]
     },
     "metadata": {
      "needs_background": "light"
     },
     "output_type": "display_data"
    }
   ],
   "source": [
    "fig, axs = plt.subplots(1, 4, figsize=(32, 8))\n",
    "axs[0].bar(range(Concatenated_XT_train_IHDP.shape[1]), importances_IHDP[indices_IHDP], color=\"r\", yerr=std_IHDP[indices_IHDP], align=\"center\")\n",
    "axs[0].set_xticks(range(Concatenated_XT_train_IHDP.shape[1]), indices_IHDP)\n",
    "axs[0].set_xlim([-1, Concatenated_XT_train_IHDP.shape[1]])\n",
    "axs[0].set_ylim([0, None])\n",
    "axs[0].set_title(\"Feature Importances - IHDP\", fontsize=12, fontweight=\"bold\")\n",
    "axs[1].bar(range(Concatenated_XT_train_Jobs.shape[1]), importances_Jobs[indices_Jobs], color=\"r\", yerr=std_Jobs[indices_Jobs], align=\"center\")\n",
    "axs[1].set_xticks(range(Concatenated_XT_train_Jobs.shape[1]), indices_Jobs)\n",
    "axs[1].set_xlim([-1, Concatenated_XT_train_Jobs.shape[1]])\n",
    "axs[1].set_ylim([0, None])\n",
    "axs[1].set_title(\"Feature Importances - Jobs\", fontsize=12, fontweight=\"bold\")\n",
    "axs[2].bar(range(Concatenated_XT_train_IHDP_Standardized.shape[1]), importances_IHDP_LR[indices_IHDP_LR], color=\"r\", align=\"center\")\n",
    "axs[2].set_xticks(range(Concatenated_XT_train_IHDP_Standardized.shape[1]), indices_IHDP_LR)\n",
    "axs[2].set_xlim([-1, Concatenated_XT_train_IHDP_Standardized.shape[1]])\n",
    "axs[2].set_ylim([0, None])\n",
    "axs[2].set_title(\"Feature Importances - IHDP\", fontsize=12, fontweight=\"bold\")\n",
    "axs[3].bar(range(Concatenated_XT_train_Jobs_Standardized.shape[1]), importances_Jobs_LR[indices_Jobs_LR], color=\"r\", align=\"center\")\n",
    "axs[3].set_xticks(range(Concatenated_XT_train_Jobs_Standardized.shape[1]), indices_Jobs_LR)\n",
    "axs[3].set_xlim([-1, Concatenated_XT_train_Jobs_Standardized.shape[1]])\n",
    "axs[3].set_ylim([0, None])\n",
    "axs[3].set_title(\"Feature Importances - Jobs\", fontsize=12, fontweight=\"bold\")\n",
    "plt.show()\n"
   ]
  },
  {
   "cell_type": "markdown",
   "id": "c081768a",
   "metadata": {},
   "source": [
    "## Advanced CATE Estimators"
   ]
  },
  {
   "cell_type": "code",
   "execution_count": 167,
   "id": "0f37c177",
   "metadata": {},
   "outputs": [
    {
     "name": "stderr",
     "output_type": "stream",
     "text": [
      "Function get_feature_names is deprecated; get_feature_names is deprecated in 1.0 and will be removed in 1.2. Please use get_feature_names_out instead.\n",
      "Function get_feature_names is deprecated; get_feature_names is deprecated in 1.0 and will be removed in 1.2. Please use get_feature_names_out instead.\n"
     ]
    }
   ],
   "source": [
    "xl_IHDP = XLearner(models=RandomForestRegressor(), propensity_model=RandomForestClassifier())\n",
    "xl_Jobs = XLearner(models=RandomForestRegressor(), propensity_model=RandomForestClassifier())\n",
    "\n",
    "xl_IHDP.fit(IHDP_yf_train, IHDP_t_train.flatten(), X=IHDP_x_train)\n",
    "xl_Jobs.fit(Jobs_y_train, Jobs_t_train.flatten(), X=Jobs_x_train)\n",
    "\n",
    "xl_te_test_IHDP = xl_IHDP.effect(IHDP_x_test)\n",
    "xl_te_test_Jobs = xl_Jobs.effect(Jobs_x_test)"
   ]
  },
  {
   "cell_type": "code",
   "execution_count": 168,
   "id": "1f871f10",
   "metadata": {},
   "outputs": [],
   "source": [
    "xl_ate_test = abs_ate(IHDP_ite_test, xl_te_test_IHDP)\n",
    "xl_pehe_test = pehe(IHDP_ite_test, xl_te_test_IHDP)\n",
    "xl_att_test = abs_att(xl_te_test_Jobs, Jobs_y_test.flatten(), Jobs_t_test.flatten(), Jobs_e_test.flatten())\n",
    "xl_rpol = policy_risk(xl_te_test_Jobs.flatten(), Jobs_y_test.flatten(), Jobs_t_test.flatten(), Jobs_e_test.flatten())"
   ]
  },
  {
   "cell_type": "code",
   "execution_count": 169,
   "id": "d11a1935",
   "metadata": {},
   "outputs": [
    {
     "data": {
      "text/html": [
       "<div>\n",
       "<style scoped>\n",
       "    .dataframe tbody tr th:only-of-type {\n",
       "        vertical-align: middle;\n",
       "    }\n",
       "\n",
       "    .dataframe tbody tr th {\n",
       "        vertical-align: top;\n",
       "    }\n",
       "\n",
       "    .dataframe thead th {\n",
       "        text-align: right;\n",
       "    }\n",
       "</style>\n",
       "<table border=\"1\" class=\"dataframe\">\n",
       "  <thead>\n",
       "    <tr style=\"text-align: right;\">\n",
       "      <th></th>\n",
       "      <th>Method</th>\n",
       "      <th>ATE test</th>\n",
       "      <th>PEHE test</th>\n",
       "    </tr>\n",
       "  </thead>\n",
       "  <tbody>\n",
       "    <tr>\n",
       "      <th>0</th>\n",
       "      <td>RF</td>\n",
       "      <td>1.305712</td>\n",
       "      <td>0.116149</td>\n",
       "    </tr>\n",
       "    <tr>\n",
       "      <th>1</th>\n",
       "      <td>Optimized RF</td>\n",
       "      <td>1.254617</td>\n",
       "      <td>0.137322</td>\n",
       "    </tr>\n",
       "    <tr>\n",
       "      <th>2</th>\n",
       "      <td>LR</td>\n",
       "      <td>2.401287</td>\n",
       "      <td>2.263552</td>\n",
       "    </tr>\n",
       "    <tr>\n",
       "      <th>3</th>\n",
       "      <td>Optimized LR</td>\n",
       "      <td>2.410418</td>\n",
       "      <td>2.273235</td>\n",
       "    </tr>\n",
       "    <tr>\n",
       "      <th>4</th>\n",
       "      <td>IPSW RF</td>\n",
       "      <td>1.234133</td>\n",
       "      <td>0.119537</td>\n",
       "    </tr>\n",
       "    <tr>\n",
       "      <th>5</th>\n",
       "      <td>IPSW LR</td>\n",
       "      <td>2.406824</td>\n",
       "      <td>2.269425</td>\n",
       "    </tr>\n",
       "    <tr>\n",
       "      <th>6</th>\n",
       "      <td>XL</td>\n",
       "      <td>0.562825</td>\n",
       "      <td>0.031386</td>\n",
       "    </tr>\n",
       "  </tbody>\n",
       "</table>\n",
       "</div>"
      ],
      "text/plain": [
       "         Method  ATE test  PEHE test\n",
       "0            RF  1.305712   0.116149\n",
       "1  Optimized RF  1.254617   0.137322\n",
       "2            LR  2.401287   2.263552\n",
       "3  Optimized LR  2.410418   2.273235\n",
       "4       IPSW RF  1.234133   0.119537\n",
       "5       IPSW LR  2.406824   2.269425\n",
       "6            XL  0.562825   0.031386"
      ]
     },
     "execution_count": 169,
     "metadata": {},
     "output_type": "execute_result"
    }
   ],
   "source": [
    "# Metrics for IHDP dataset\n",
    "results = []\n",
    "results.append(['RF', ATE_IHDP, PEHE_IHDP])\n",
    "results.append(['Optimized RF', ATE_IHDP_Optimized, PEHE_IHDP_Optimized])\n",
    "results.append(['LR', ATE_IHDP_LR, PEHE_IHDP_LR])\n",
    "results.append(['Optimized LR', ATE_IHDP_LR_Optimized, PEHE_IHDP_LR_Optimized])\n",
    "results.append(['IPSW RF', ATE_IHDP_RF_IPSW, PEHE_IHDP_RF_IPSW])\n",
    "results.append(['IPSW LR',ATE_IHDP_LR_IPSW,PEHE_IHDP_LR_IPSW])\n",
    "results.append(['XL',xl_ate_test ,xl_pehe_test])\n",
    "cols = ['Method', 'ATE test', 'PEHE test']\n",
    "df_First = pd.DataFrame(results, columns=cols)\n",
    "df_First"
   ]
  },
  {
   "cell_type": "code",
   "execution_count": 170,
   "id": "2e4c7be2",
   "metadata": {},
   "outputs": [
    {
     "data": {
      "text/html": [
       "<div>\n",
       "<style scoped>\n",
       "    .dataframe tbody tr th:only-of-type {\n",
       "        vertical-align: middle;\n",
       "    }\n",
       "\n",
       "    .dataframe tbody tr th {\n",
       "        vertical-align: top;\n",
       "    }\n",
       "\n",
       "    .dataframe thead th {\n",
       "        text-align: right;\n",
       "    }\n",
       "</style>\n",
       "<table border=\"1\" class=\"dataframe\">\n",
       "  <thead>\n",
       "    <tr style=\"text-align: right;\">\n",
       "      <th></th>\n",
       "      <th>Method</th>\n",
       "      <th>ATT test</th>\n",
       "      <th>Risk Policy</th>\n",
       "    </tr>\n",
       "  </thead>\n",
       "  <tbody>\n",
       "    <tr>\n",
       "      <th>0</th>\n",
       "      <td>RF</td>\n",
       "      <td>0.063641</td>\n",
       "      <td>0.202295</td>\n",
       "    </tr>\n",
       "    <tr>\n",
       "      <th>1</th>\n",
       "      <td>Optimized RF</td>\n",
       "      <td>0.033940</td>\n",
       "      <td>0.217834</td>\n",
       "    </tr>\n",
       "    <tr>\n",
       "      <th>2</th>\n",
       "      <td>LR</td>\n",
       "      <td>0.006004</td>\n",
       "      <td>0.224490</td>\n",
       "    </tr>\n",
       "    <tr>\n",
       "      <th>3</th>\n",
       "      <td>Optimized LR</td>\n",
       "      <td>0.006004</td>\n",
       "      <td>0.224490</td>\n",
       "    </tr>\n",
       "    <tr>\n",
       "      <th>4</th>\n",
       "      <td>IPSW RF</td>\n",
       "      <td>0.026082</td>\n",
       "      <td>0.250914</td>\n",
       "    </tr>\n",
       "    <tr>\n",
       "      <th>5</th>\n",
       "      <td>IPSW LR</td>\n",
       "      <td>0.009753</td>\n",
       "      <td>0.224490</td>\n",
       "    </tr>\n",
       "    <tr>\n",
       "      <th>6</th>\n",
       "      <td>XL</td>\n",
       "      <td>0.033274</td>\n",
       "      <td>0.164723</td>\n",
       "    </tr>\n",
       "  </tbody>\n",
       "</table>\n",
       "</div>"
      ],
      "text/plain": [
       "         Method  ATT test  Risk Policy\n",
       "0            RF  0.063641     0.202295\n",
       "1  Optimized RF  0.033940     0.217834\n",
       "2            LR  0.006004     0.224490\n",
       "3  Optimized LR  0.006004     0.224490\n",
       "4       IPSW RF  0.026082     0.250914\n",
       "5       IPSW LR  0.009753     0.224490\n",
       "6            XL  0.033274     0.164723"
      ]
     },
     "execution_count": 170,
     "metadata": {},
     "output_type": "execute_result"
    }
   ],
   "source": [
    "# Metrics for Jobs Dataset\n",
    "results_ = []\n",
    "results_.append(['RF', ATT_Jobs, Rpol])\n",
    "results_.append(['Optimized RF', ATT_Jobs_Optimized, Rpol_Optimized])\n",
    "results_.append(['LR', ATT_Jobs_LR, Rpol_LR])\n",
    "results_.append(['Optimized LR', ATT_Jobs_LR_Optimized, Rpol_LR_Optimized])\n",
    "results_.append(['IPSW RF',ATT_Jobs_RF_IPSW,Rpol_RF_IPSW])\n",
    "results_.append(['IPSW LR',ATT_Jobs_LR_IPSW,Rpol_LR_IPSW])\n",
    "results_.append(['XL',xl_att_test ,xl_rpol])\n",
    "cols_ = ['Method', 'ATT test', 'Risk Policy']\n",
    "df_Second = pd.DataFrame(results_, columns=cols_)\n",
    "df_Second"
   ]
  },
  {
   "cell_type": "code",
   "execution_count": null,
   "id": "ae5770c8",
   "metadata": {},
   "outputs": [],
   "source": []
  }
 ],
 "metadata": {
  "kernelspec": {
   "display_name": "Python 3 (ipykernel)",
   "language": "python",
   "name": "python3"
  },
  "language_info": {
   "codemirror_mode": {
    "name": "ipython",
    "version": 3
   },
   "file_extension": ".py",
   "mimetype": "text/x-python",
   "name": "python",
   "nbconvert_exporter": "python",
   "pygments_lexer": "ipython3",
   "version": "3.9.7"
  }
 },
 "nbformat": 4,
 "nbformat_minor": 5
}
