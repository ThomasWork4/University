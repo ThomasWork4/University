{
  "nbformat": 4,
  "nbformat_minor": 0,
  "metadata": {
    "colab": {
      "name": "bootstrap.ipynb",
      "provenance": [],
      "include_colab_link": true
    },
    "kernelspec": {
      "display_name": "Python 3",
      "language": "python",
      "name": "python3"
    },
    "language_info": {
      "codemirror_mode": {
        "name": "ipython",
        "version": 3
      },
      "file_extension": ".py",
      "mimetype": "text/x-python",
      "name": "python",
      "nbconvert_exporter": "python",
      "pygments_lexer": "ipython3",
      "version": "3.7.6"
    },
    "pycharm": {
      "stem_cell": {
        "cell_type": "raw",
        "metadata": {
          "collapsed": false
        },
        "source": []
      }
    }
  },
  "cells": [
    {
      "cell_type": "markdown",
      "metadata": {
        "id": "view-in-github",
        "colab_type": "text"
      },
      "source": [
        "<a href=\"https://colab.research.google.com/github/ThomasWork4/CE888/blob/main/labs/lab-2/bootstrap.ipynb\" target=\"_parent\"><img src=\"https://colab.research.google.com/assets/colab-badge.svg\" alt=\"Open In Colab\"/></a>"
      ]
    },
    {
      "cell_type": "markdown",
      "metadata": {
        "id": "nCi_99yMYIb1"
      },
      "source": [
        "In this notebook you'll create your own bootstrap function following the bootstrap algorithm (check the lecture notes!)"
      ]
    },
    {
      "cell_type": "code",
      "metadata": {
        "id": "LY5zujI2YC37",
        "pycharm": {
          "name": "#%%# Imports\n"
        }
      },
      "source": [
        "import matplotlib\n",
        "import pandas as pd\n",
        "import seaborn as sns\n",
        "import numpy as np\n",
        "\n"
      ],
      "execution_count": 1,
      "outputs": []
    },
    {
      "cell_type": "code",
      "metadata": {
        "id": "Eqkwj4SMY38t"
      },
      "source": [
        "# Load the data\n",
        "df = pd.read_csv('https://raw.githubusercontent.com/albanda/CE888/master/lab2%20-%20bootstrap/customers.csv')\n",
        "data = df.values.T[1]"
      ],
      "execution_count": 2,
      "outputs": []
    },
    {
      "cell_type": "code",
      "metadata": {
        "id": "Gxvc_bScYC4H",
        "pycharm": {
          "name": "#%%\n"
        }
      },
      "source": [
        "# Checking the notes from the lecture, create here your own bootstrap function:\n",
        "# 1. Sample from the input array x to create an array of samples of shape (n_bootstraps, sample_size)\n",
        "# Hint: Check the function random.choice() on Numpy\n",
        "# 2. Calculate and save the mean of the array (this is \"data_mean\" that is returned by the function)\n",
        "# 3. Calculate the mean from each bootstrap (i.e., row) and store it.\n",
        "# (This should be an array of n_bootstraps values)\n",
        "# 4. Calculate the lower and upper bounds for a 95% CI (hint: check the percentile function on Numpy)\n",
        "# 5. Return data_mean, and the lower and upper bounds of your interval\n",
        "def bootstrap_mean(x, sample_size, n_bootstraps):\n",
        "\tArray_Of_Samples = []\n",
        "\t# <---INSERT YOUR CODE HERE--->\n",
        "\n",
        "\tfor i in range(n_bootstraps):\n",
        "\t\tArray_Of_Samples.append(np.random.choice(x, sample_size, replace=True))\n",
        "\tArray_Of_Samples_NP = np.array(Array_Of_Samples)\n",
        "\tdata_mean = np.mean(Array_Of_Samples_NP)\n",
        "\n",
        "\tList_Of_Bootstrap_Means = []\n",
        "\tfor each_bootstrap in Array_Of_Samples_NP:\n",
        "\t\tList_Of_Bootstrap_Means.append(np.mean(each_bootstrap))\n",
        "\tList_Of_Bootstrap_Means_NP = np.array(List_Of_Bootstrap_Means)\n",
        " \n",
        "\tlower = np.percentile(List_Of_Bootstrap_Means_NP, 2.5)\n",
        "\tupper = np.percentile(List_Of_Bootstrap_Means_NP, 97.5)\n",
        " \n",
        "\treturn data_mean, lower, upper\n",
        "\n"
      ],
      "execution_count": 3,
      "outputs": []
    },
    {
      "cell_type": "code",
      "metadata": {
        "id": "AN7sEOcMYC4P",
        "pycharm": {
          "name": "#%%\n"
        },
        "colab": {
          "base_uri": "https://localhost:8080/",
          "height": 441
        },
        "outputId": "5bd17ef1-efe3-4acb-e018-ca5341064dc8"
      },
      "source": [
        "# Call your bootstrap function and plot the results\n",
        "\n",
        "boots = []\n",
        "for i in range(100, 50000, 1000):\n",
        "    boot = bootstrap_mean(data, data.shape[0], i)\n",
        "    boots.append([i, boot[0], \"mean\"])\n",
        "    boots.append([i, boot[1], \"lower\"])\n",
        "    boots.append([i, boot[2], \"upper\"])\n",
        "\n",
        "df_boot = pd.DataFrame(boots, columns=['Bootstrap Iterations', 'Mean', \"Value\"])\n",
        "sns_plot = sns.lmplot(df_boot.columns[0], df_boot.columns[1], data=df_boot, fit_reg=False, hue=\"Value\")\n",
        "\n",
        "sns_plot.axes[0, 0].set_ylim(0,)\n",
        "sns_plot.axes[0, 0].set_xlim(0, 50000)\n"
      ],
      "execution_count": 4,
      "outputs": [
        {
          "output_type": "stream",
          "name": "stderr",
          "text": [
            "/usr/local/lib/python3.7/dist-packages/seaborn/_decorators.py:43: FutureWarning: Pass the following variables as keyword args: x, y. From version 0.12, the only valid positional argument will be `data`, and passing other arguments without an explicit keyword will result in an error or misinterpretation.\n",
            "  FutureWarning\n"
          ]
        },
        {
          "output_type": "execute_result",
          "data": {
            "text/plain": [
              "(0.0, 50000.0)"
            ]
          },
          "metadata": {},
          "execution_count": 4
        },
        {
          "output_type": "display_data",
          "data": {
            "image/png": "[encoded data removed]",
            "text/plain": [
              "<Figure size 425.125x360 with 1 Axes>"
            ]
          },
          "metadata": {
            "needs_background": "light"
          }
        }
      ]
    },
    {
      "cell_type": "markdown",
      "metadata": {
        "id": "MjtP4e2_YC4V"
      },
      "source": [
        "\n",
        "Now, modify the bootstrap function you created above so that you can pass your desired confidence interval as a parameter.\n",
        "\n"
      ]
    },
    {
      "cell_type": "code",
      "metadata": {
        "id": "3K9j0FuGYhHs"
      },
      "source": [
        "def bootstrap_mean_ci(sample, sample_size, n_bootstraps, ci):\n",
        "\t# <---INSERT YOUR CODE HERE--->\n",
        "\tArray_Of_Samples = []\n",
        "\t# <---INSERT YOUR CODE HERE--->\n",
        "\n",
        "\tfor i in range(n_bootstraps):\n",
        "\t\tArray_Of_Samples.append(np.random.choice(sample, sample_size, replace=True))\n",
        "\tArray_Of_Samples_NP = np.array(Array_Of_Samples)\n",
        "\tdata_mean = np.mean(Array_Of_Samples_NP)\n",
        "\n",
        "\tList_Of_Bootstrap_Means = []\n",
        "\tfor each_bootstrap in Array_Of_Samples_NP:\n",
        "\t\tList_Of_Bootstrap_Means.append(np.mean(each_bootstrap))\n",
        "\tList_Of_Bootstrap_Means_NP = np.array(List_Of_Bootstrap_Means)\n",
        "  \n",
        "\tlower = np.percentile(List_Of_Bootstrap_Means_NP, (100 - ci) / 2)\n",
        "\tupper = np.percentile(List_Of_Bootstrap_Means_NP, 100 - ((100 - ci) / 2))\n",
        "\treturn data_mean, lower, upper\n"
      ],
      "execution_count": 5,
      "outputs": []
    },
    {
      "cell_type": "code",
      "source": [
        "def bootstrap_std_ci(sample, sample_size, n_bootstraps, ci):\n",
        "\t# <---INSERT YOUR CODE HERE--->\n",
        "\tArray_Of_Samples = []\n",
        "\t# <---INSERT YOUR CODE HERE--->\n",
        "\n",
        "\tfor i in range(n_bootstraps):\n",
        "\t\tArray_Of_Samples.append(np.random.choice(sample, sample_size, replace=True))\n",
        "\tArray_Of_Samples_NP = np.array(Array_Of_Samples)\n",
        "\tdata_std = np.std(Array_Of_Samples_NP)\n",
        "\n",
        "\tList_Of_Bootstrap_std = []\n",
        "\tfor each_bootstrap in Array_Of_Samples_NP:\n",
        "\t\tList_Of_Bootstrap_std.append(np.std(each_bootstrap))\n",
        "\tList_Of_Bootstrap_std_NP = np.array(List_Of_Bootstrap_std)\n",
        "  \n",
        "\tlower = np.percentile(List_Of_Bootstrap_std_NP, (100 - ci) / 2)\n",
        "\tupper = np.percentile(List_Of_Bootstrap_std_NP, 100 - ((100 - ci) / 2))\n",
        "\treturn data_std, lower, upper"
      ],
      "metadata": {
        "id": "AjZEl7Tdf_E0"
      },
      "execution_count": 32,
      "outputs": []
    },
    {
      "cell_type": "code",
      "metadata": {
        "id": "uDnjq08GYl-C",
        "colab": {
          "base_uri": "https://localhost:8080/",
          "height": 441
        },
        "outputId": "3d8ee937-e967-467a-a8f4-0b67183b53e0"
      },
      "source": [
        "boots = []\n",
        "for i in range(100, 50000, 1000):\n",
        "    boot = bootstrap_mean_ci(data, data.shape[0], i, 80)\n",
        "    boots.append([i, boot[0], \"mean\"])\n",
        "    boots.append([i, boot[1], \"lower\"])\n",
        "    boots.append([i, boot[2], \"upper\"])\n",
        "\n",
        "df_boot = pd.DataFrame(boots, columns=['Boostrap Iterations', 'Mean', \"Value\"])\n",
        "sns_plot = sns.lmplot(df_boot.columns[0], df_boot.columns[1], data=df_boot, fit_reg=False, hue=\"Value\")\n",
        "\n",
        "sns_plot.axes[0, 0].set_ylim(0,)\n",
        "sns_plot.axes[0, 0].set_xlim(0, 50000)\n",
        "\n",
        "#sns_plot.savefig(\"bootstrap_confidence_80.pdf\", bbox_inches='tight')\n"
      ],
      "execution_count": 6,
      "outputs": [
        {
          "output_type": "stream",
          "name": "stderr",
          "text": [
            "/usr/local/lib/python3.7/dist-packages/seaborn/_decorators.py:43: FutureWarning: Pass the following variables as keyword args: x, y. From version 0.12, the only valid positional argument will be `data`, and passing other arguments without an explicit keyword will result in an error or misinterpretation.\n",
            "  FutureWarning\n"
          ]
        },
        {
          "output_type": "execute_result",
          "data": {
            "text/plain": [
              "(0.0, 50000.0)"
            ]
          },
          "metadata": {},
          "execution_count": 6
        },
        {
          "output_type": "display_data",
          "data": {
            "image/png": "[encoded data removed]",
            "text/plain": [
              "<Figure size 425.125x360 with 1 Axes>"
            ]
          },
          "metadata": {
            "needs_background": "light"
          }
        }
      ]
    },
    {
      "cell_type": "markdown",
      "metadata": {
        "id": "qjNgXW6wdd7r"
      },
      "source": [
        "# Vehicles dataset\n",
        "\n",
        "Now let's work on a different dataset, which is stored in the vehicles.csv file.\n"
      ]
    },
    {
      "cell_type": "code",
      "metadata": {
        "id": "avWv4ipFdpka"
      },
      "source": [
        "# Load and visualise the vehicles dataset\n",
        "# To load the dataset: https://neptune.ai/blog/google-colab-dealing-with-files (check section \"Load individual files directly from GitHub\")\n",
        "\n",
        "\n",
        "# Note that the current and new fleets are in different columns and have different lengths, so bear this in mind when you're plotting.\n",
        "# You can create separate scatterplots for the two fleets, as you would with the histograms, \n",
        "# or plot them both in one plot (but not one against the other).\n",
        "# <---INSERT YOUR CODE HERE--->\n",
        "df = pd.read_csv(\"https://raw.githubusercontent.com/albanda/CE888/master/lab2%20-%20bootstrap/vehicles.csv\")\n",
        "# Note: you can add more cells as needed to organise your code and your plots\n"
      ],
      "execution_count": 34,
      "outputs": []
    },
    {
      "cell_type": "code",
      "source": [
        "\n",
        "current_fleet = df[df.columns[0]].values\n",
        "new_fleet = df[df.columns[1]].dropna().values\n",
        "\n",
        "# Moodle Quiz Question 1\n",
        "#print(bootstrap_mean_ci(current_fleet, current_fleet.shape[0], 1000, 95))\n",
        "#print(bootstrap_mean_ci(current_fleet, current_fleet.shape[0], 1000, 80))\n",
        "\n",
        "# Moodle Quiz Question 2\n",
        "#print(bootstrap_mean_ci(data, data.shape[0], 10000, 85))\n",
        "\n",
        "# Moodle Quiz Question 3\n",
        "#print(bootstrap_mean_ci(current_fleet, current_fleet.shape[0], 10000, 80))\n",
        "\n",
        "# Moodle Quiz Question 4\n",
        "#print(bootstrap_std_ci(current_fleet, current_fleet.shape[0], 10000, 99))\n",
        "\n",
        "# Moodle Quiz Question 5\n",
        "#print(bootstrap_std_ci(data, data.shape[0], 10000, 90))\n",
        "\n",
        "#sns.distplot(current_fleet, bins=20, kde=False, rug=True)\n",
        "#sns.distplot(new_fleet, bins=20, kde=False, rug=True)\n"
      ],
      "metadata": {
        "colab": {
          "base_uri": "https://localhost:8080/"
        },
        "id": "QoRVwq_rP4oV",
        "outputId": "7e063dee-ec3d-44a3-903e-53ed89698350"
      },
      "execution_count": 65,
      "outputs": [
        {
          "output_type": "stream",
          "name": "stdout",
          "text": [
            "(5.676926285317484, 3.0110341297654277, 7.095917193451917)\n"
          ]
        }
      ]
    },
    {
      "cell_type": "markdown",
      "metadata": {
        "id": "B5d0tXDpIEj8"
      },
      "source": [
        "## Compare the two fleets\n",
        "\n",
        "The business analysts come up a comparison algorithm that requires the upper and lower bounds for the mean in order to say which fleet is better.\n",
        "1. Calculate the mean of both samples.\n",
        "2. Using the bootstrap function that you created:\n",
        "    - Construct the 95% CI of the mean of the current fleet.\n",
        "    - Construct the 95% CI of the mean of the new fleet.\n",
        "    - Are they comparable? (i.e., is one better than the other?) -- you can do this with a permutation test (check the lecture notes!)"
      ]
    },
    {
      "cell_type": "code",
      "metadata": {
        "id": "po4mp6zRHC0m",
        "colab": {
          "base_uri": "https://localhost:8080/"
        },
        "outputId": "55bc9806-466c-4d09-e065-6d70595063e4"
      },
      "source": [
        "# <---INSERT YOUR CODE HERE--->\n",
        "\n",
        "Mean_Current_Fleet = np.mean(current_fleet)\n",
        "Mean_New_Fleet = np.mean(new_fleet)\n",
        "\n",
        "CI_For_Current_Fleet = bootstrap_mean_ci(current_fleet, current_fleet.shape[0], 1000, 95)\n",
        "CI_For_New_Fleet = bootstrap_mean_ci(new_fleet, new_fleet.shape[0], 1000, 95)\n",
        "\n",
        "print(current_fleet)\n",
        "#print(Mean_Current_Fleet)\n",
        "#print(Mean_New_Fleet)\n"
      ],
      "execution_count": 46,
      "outputs": [
        {
          "output_type": "stream",
          "name": "stdout",
          "text": [
            "[18 15 18 16 17 15 14 14 14 15 15 14 15 14 22 18 21 21 10 10 11  9 28 25\n",
            " 19 16 17 19 18 14 14 14 14 12 13 13 18 22 19 18 23 26 25 20 21 13 14 15\n",
            " 14 17 11 13 12 13 15 13 13 14 22 28 13 14 13 14 15 12 13 13 14 13 12 13\n",
            " 18 16 18 18 23 11 12 13 12 18 21 19 21 15 16 15 11 20 21 19 15 26 25 16\n",
            " 16 18 16 13 14 14 14 28 19 18 15 15 16 15 16 14 17 16 15 18 21 20 13 23\n",
            " 20 23 18 19 25 26 18 16 16 15 22 22 24 23 29 25 20 18 19 18 27 13 17 13\n",
            " 13 13 30 26 18 17 16 15 18 21 19 19 16 16 16 16 25 26 31 34 36 20 19 20\n",
            " 19 21 20 25 21 19 21 21 19 18 19 18 18 18 30 31 23 24 22 20 22 20 21 17\n",
            " 18 17 18 17 16 19 19 36 27 23 24 34 35 28 29 27 34 32 28 26 24 19 28 24\n",
            " 27 27 26 24 30 39 35 34 30 22 27 20 18 28 27 34 31 29 27 24 23 38 36 25\n",
            " 38 26 22 36 27 27 32 28 31]\n"
          ]
        }
      ]
    },
    {
      "cell_type": "code",
      "metadata": {
        "id": "MkxvDZG4HC0n",
        "colab": {
          "base_uri": "https://localhost:8080/"
        },
        "outputId": "b52da09b-650e-4f11-e163-db941d3af835"
      },
      "source": [
        "# Create your own function for a permutation test here (you will need it for the lab quiz!):\n",
        "def permut_test(sample1, sample2, n_permutations):\n",
        "    \"\"\"\n",
        "    sample1: 1D array\n",
        "    sample2: 1D array (note that the size of the two arrays can be different)\n",
        "    n_permutations: number of permutations to calculate the p-value\n",
        "    \"\"\"\n",
        "    tobs = np.mean(sample2) - np.mean(sample1)\n",
        "    concat = np.concatenate((sample1, sample2))\n",
        "    p_value_counter = 0\n",
        "    for x in range(n_permutations):\n",
        "      perm = np.random.permutation(concat)\n",
        "      pold = perm[:int(len(perm)/2)]\n",
        "      pnew = perm[int(len(perm)/2):]\n",
        "      tperm = np.mean(pnew) - np.mean(pold)\n",
        "      if tperm > tobs:\n",
        "        p_value_counter += 1\n",
        "    pvalue = p_value_counter / n_permutations \n",
        "\n",
        "    return pvalue\n",
        "\n",
        "# Moodle Quiz Question 7\n",
        "permut_test(current_fleet, new_fleet, 30000)"
      ],
      "execution_count": 54,
      "outputs": [
        {
          "output_type": "execute_result",
          "data": {
            "text/plain": [
              "0.0"
            ]
          },
          "metadata": {},
          "execution_count": 54
        }
      ]
    },
    {
      "cell_type": "code",
      "source": [
        "dem_share_PA = [60.08, 40.64, 36.07, 41.21, 31.04, 43.78, 44.08, 46.85, 44.71, 46.15, 63.10, 52.20, 43.18, 40.24, 39.92, 47.87, 37.77, 40.11, 49.85, 48.61, 38.62, 54.25, 34.84, 47.75, 43.82, 55.97, 58.23, 42.97, 42.38, 36.11, 37.53, 42.65, 50.96, 47.43, 56.24, 45.60, 46.39, 35.22, 48.56, 32.97, 57.88, 36.05, 37.72, 50.36, 32.12, 41.55, 54.66, 57.81, 54.58, 32.88, 54.37, 40.45, 47.61, 60.49, 43.11, 27.32, 44.03, 33.56, 37.26, 54.64, 43.12, 25.34, 49.79, 83.56, 40.09, 60.81, 49.81]\n",
        "dem_share_OH = [56.94, 50.46, 65.99, 45.88, 42.23, 45.26, 57.01, 53.61, 59.10, 61.48, 43.43, 44.69, 54.59, 48.36, 45.89, 48.62, 43.92, 38.23, 28.79, 63.57, 38.07, 40.18, 43.05, 41.56, 42.49, 36.06, 52.76, 46.07, 39.43, 39.26, 47.47, 27.92, 38.01, 45.45, 29.07, 28.94, 51.28, 50.10, 39.84, 36.43, 35.71, 31.47, 47.01, 40.10, 48.76, 31.56, 39.86, 45.31, 35.47, 51.38, 46.33, 48.73, 41.77, 41.32, 48.46, 53.14, 34.01, 54.74, 40.67, 38.96, 46.29, 38.25, 6.80, 31.75, 46.33, 44.90, 33.57, 38.10, 39.67, 40.47, 49.44, 37.62, 36.71, 46.73, 42.20, 53.16, 52.40, 58.36, 68.02, 38.53, 34.58, 69.64, 60.50, 53.53, 36.54, 49.58, 41.97, 38.11]\n",
        "# Moodle Quiz Question 8\n",
        "#print(len(dem_share_PA))\n",
        "#print(len(dem_share_OH))\n",
        "CI_For_PA = bootstrap_mean_ci(dem_share_PA, len(dem_share_PA), 25000, 90)\n",
        "CI_For_OH = bootstrap_mean_ci(dem_share_OH, len(dem_share_OH), 25000, 90)\n",
        "#print(CI_For_PA)\n",
        "#print(CI_For_OH)\n",
        "permut_test(dem_share_PA, dem_share_OH, 20000)"
      ],
      "metadata": {
        "id": "1d24Jdiulxpm",
        "outputId": "165d7ed5-ccb2-48aa-bb93-08a12c424166",
        "colab": {
          "base_uri": "https://localhost:8080/"
        }
      },
      "execution_count": 61,
      "outputs": [
        {
          "output_type": "execute_result",
          "data": {
            "text/plain": [
              "0.7661"
            ]
          },
          "metadata": {},
          "execution_count": 61
        }
      ]
    }
  ]
}